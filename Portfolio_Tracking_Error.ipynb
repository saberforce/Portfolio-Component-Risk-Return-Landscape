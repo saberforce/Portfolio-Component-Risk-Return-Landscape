{
  "nbformat": 4,
  "nbformat_minor": 0,
  "metadata": {
    "colab": {
      "name": "Portfolio Tracking Error.ipynb",
      "provenance": [],
      "collapsed_sections": [],
      "authorship_tag": "ABX9TyNeN8njX0ediqMizH/NSFOI",
      "include_colab_link": true
    },
    "kernelspec": {
      "name": "python3",
      "display_name": "Python 3"
    },
    "language_info": {
      "name": "python"
    }
  },
  "cells": [
    {
      "cell_type": "markdown",
      "metadata": {
        "id": "view-in-github",
        "colab_type": "text"
      },
      "source": [
        "<a href=\"https://colab.research.google.com/github/saberforce/Portfolio-Component-Risk-Return-Landscape/blob/main/Portfolio_Tracking_Error.ipynb\" target=\"_parent\"><img src=\"https://colab.research.google.com/assets/colab-badge.svg\" alt=\"Open In Colab\"/></a>"
      ]
    },
    {
      "cell_type": "markdown",
      "source": [
        ""
      ],
      "metadata": {
        "id": "jaPnUYENKdgr"
      }
    },
    {
      "cell_type": "code",
      "execution_count": 1,
      "metadata": {
        "id": "Twbx46hTD1-5",
        "colab": {
          "base_uri": "https://localhost:8080/"
        },
        "outputId": "522405a3-7870-41df-cba4-fad4c5953748"
      },
      "outputs": [
        {
          "output_type": "stream",
          "name": "stdout",
          "text": [
            "Collecting pycoingecko\n",
            "  Downloading pycoingecko-2.2.0-py3-none-any.whl (8.3 kB)\n",
            "Requirement already satisfied: requests in /usr/local/lib/python3.7/dist-packages (from pycoingecko) (2.23.0)\n",
            "Requirement already satisfied: urllib3!=1.25.0,!=1.25.1,<1.26,>=1.21.1 in /usr/local/lib/python3.7/dist-packages (from requests->pycoingecko) (1.24.3)\n",
            "Requirement already satisfied: chardet<4,>=3.0.2 in /usr/local/lib/python3.7/dist-packages (from requests->pycoingecko) (3.0.4)\n",
            "Requirement already satisfied: certifi>=2017.4.17 in /usr/local/lib/python3.7/dist-packages (from requests->pycoingecko) (2021.10.8)\n",
            "Requirement already satisfied: idna<3,>=2.5 in /usr/local/lib/python3.7/dist-packages (from requests->pycoingecko) (2.10)\n",
            "Installing collected packages: pycoingecko\n",
            "Successfully installed pycoingecko-2.2.0\n"
          ]
        }
      ],
      "source": [
        "pip install pycoingecko\n"
      ]
    },
    {
      "cell_type": "code",
      "source": [
        "import pandas as pd\n",
        "import requests\n",
        "import plotly.express as px"
      ],
      "metadata": {
        "id": "wfK8FJCkRw_N"
      },
      "execution_count": 2,
      "outputs": []
    },
    {
      "cell_type": "code",
      "source": [
        "from pycoingecko import CoinGeckoAPI\n",
        "cg = CoinGeckoAPI()\n"
      ],
      "metadata": {
        "id": "-LtZGNa9LGPm"
      },
      "execution_count": 3,
      "outputs": []
    },
    {
      "cell_type": "code",
      "source": [
        "def get_asset_price(assetlist, days):\n",
        "  # For Each Coin Get A List Of Prices Over The Last yyy Days\n",
        "  assetdict={}\n",
        "  for coin in assetlist:\n",
        "    asset_price=cg.get_coin_market_chart_by_id(id=coin,vs_currency='usd',days=days)\n",
        "    pricelist=[]\n",
        "    num_of_prices=len(asset_price['prices'])\n",
        "    for k in range(num_of_prices):\n",
        "\n",
        "      coinprice=(asset_price['prices'][k][1])\n",
        "      pricelist.append(coinprice)\n",
        "\n",
        "    #Prep data - some coins have deficient data count\n",
        "    assetdict[f'{coin}']=pd.Series(pricelist)\n",
        "\n",
        "  return assetdict\n",
        "\n",
        "\n",
        "def asset_price_change(assetdict, assetlist, assetlistportion):\n",
        "  # Getting A List of Price Change Percentage (or Returns Percentage) \n",
        "  # Derived From Daily Prices Of Each Coin\n",
        "\n",
        "  df1=pd.DataFrame()\n",
        "  n=0\n",
        "  price_change = [x+\"_price_change\" for x in assetlist]\n",
        "\n",
        "  for k,v in assetdict.items():\n",
        "    df1[price_change[n]]=(v.pct_change(1))*assetlistportion[n]\n",
        "    n=n+1\n",
        "  return df1\n",
        "\n",
        "\n",
        "def plot_line(days, error, dfa, x, y, labels={}, title=''):\n",
        "  #Plotting A Line Graph For Y Variable(s) On A Chart With 2 Fixed Horizontal Lines\n",
        "  fig = px.line(dfa, x, y,\n",
        "                labels=labels,\n",
        "                title=title\n",
        "                )\n",
        " \n",
        "  fig.update_traces(line_color='green', line_width=2)\n",
        "  fig.add_hline(y=3.0, y1=3.0, annotation_text=\"3%\", annotation_position=\"top left\",\n",
        "                line_width=1.5, line_dash=\"dash\", line_color=\"blue\")\n",
        "  fig.add_hline(y=-3, y1=-3, annotation_text=\"-3%\", annotation_position=\"bottom left\",\n",
        "                line_width=1.5, line_dash=\"dash\", line_color=\"red\")\n",
        "  fig.add_annotation(\n",
        "    text = (f'{days} Days Period Tracking Error % is {error}')\n",
        "    ,showarrow=False\n",
        "    , x = 0\n",
        "    , y = -0.15\n",
        "    , xref='paper'\n",
        "    , yref='paper' \n",
        "    , font=dict(size=20, color=\"blue\")\n",
        "    , align=\"left\"\n",
        "    )\n",
        "\n",
        "  fig.show()\n",
        "\n"
      ],
      "metadata": {
        "id": "OXMOeiYKpsOV"
      },
      "execution_count": 210,
      "outputs": []
    },
    {
      "cell_type": "code",
      "source": [
        "def main():\n",
        "\n",
        "  pd.set_option('display.max_columns', None)\n",
        "\n",
        "# SPROUT PORTFOLIO\n",
        "\n",
        "  #Portfolio's Underlying Assets\n",
        "  portfoliolist=['bitcoin', 'ethereum', 'wmatic','chainlink', 'uniswap','the-sandbox',\n",
        "                 'decentraland','the-graph','aave', 'wrapped-usdc']\n",
        "       \n",
        "\n",
        "  #Allocated Asset % Inside The Portfolio In Ordered Sequence\n",
        "  portfoliolistportion=[0.2,0.2,0.1,0.1,0.05,0.05,0.05,0.05,0.05,0.15]\n",
        "\n",
        "  #Period Assessed (In Days)\n",
        "  days=180\n",
        "\n",
        "  #Deriving All Prices For Each Portfolio Asset Over No. Of Days Assessed\n",
        "  #Deriving All Price Changes For Each Portfolio Asset Inside A Dataframe\n",
        "  #Deriving Change In Value of Portfolio From Price Change of Each Underlying Asset\n",
        "  portfoliodict=get_asset_price(portfoliolist, days)\n",
        "  \n",
        "  df_portfolio_asset_price_change= asset_price_change(portfoliodict, \n",
        "                                                      portfoliolist, \n",
        "                                                      portfoliolistportion)\n",
        "\n",
        "  df_portfolio_asset_price_change['Portfolio_value_change']=df_portfolio_asset_price_change.sum(axis=1)\n",
        "  #print(\"this is df1\", df_portfolio_asset_price_change)\n",
        "\n",
        "\n",
        "# BENCHMARK # 1 (Crypto20)\n",
        "\n",
        "  benchmarklist=['crypto20']\n",
        "       \n",
        "  # Allocated % For Each Benchmark In Ordered Sequence\n",
        "  \n",
        "  benchmarklistportion=[1.0]\n",
        "\n",
        "  #Deriving All Prices For Benchmark Over No. Of Days Assessed\n",
        "  #Deriving All Price Changes For Benchmark Inside A Dataframe\n",
        "\n",
        "  c20_dict=get_asset_price(benchmarklist, days)\n",
        "  \n",
        "  df_c20_price_change= asset_price_change(c20_dict, benchmarklist, benchmarklistportion)\n",
        "\n",
        "  #print(df_c20_price_change)\n",
        "\n",
        "# TRACKING ERROR IN %\n",
        "  \n",
        "  # Finalizing The Dataframe For Portfolio vs Benchmark\n",
        "\n",
        "  finallist = [df_portfolio_asset_price_change['Portfolio_value_change']*100, \n",
        "                  df_c20_price_change['crypto20_price_change']*100]\n",
        "\n",
        "  headers=[\"Portfolio returns (daily %)\",\"crypto20 returns (daily %)\"]\n",
        "\n",
        "  \n",
        "  df_final = pd.concat(finallist, axis=1, keys=headers)\n",
        "\n",
        "\n",
        "  # Finalizing The Tracking Error % On Daily Basis And For The Full Period Assessed\n",
        "\n",
        "  df_final['Daily Tracking Error %']=df_final[\"Portfolio returns (daily %)\"]-df_final[\"crypto20 returns (daily %)\"]\n",
        "\n",
        "  full_period_tracking_error=round(df_final['Daily Tracking Error %'].std(), 3)\n",
        " \n",
        "  print(df_final)\n",
        "  print(\"Tracking Error % For Full Period Assessed\", full_period_tracking_error)\n",
        "\n",
        "\n",
        "# Plot Line Chart of Tracking Error\n",
        "\n",
        "  plot_line(days,full_period_tracking_error,df_final, x=df_final.index, \n",
        "            y=['Daily Tracking Error %'], \n",
        "            labels={'index': f'No. of Days ({days})', 'value': 'Error %', \n",
        "                    'variable': 'Legend'}, \n",
        "            title=\"Daily Tracking Error % (Portfolio Vs Crypto20)\")\n",
        "\n",
        "if __name__ == \"__main__\":\n",
        "  main()"
      ],
      "metadata": {
        "colab": {
          "base_uri": "https://localhost:8080/",
          "height": 1000
        },
        "id": "B3am8jJc0b72",
        "outputId": "8be71847-4259-4423-9709-ec065698859a"
      },
      "execution_count": 213,
      "outputs": [
        {
          "output_type": "stream",
          "name": "stdout",
          "text": [
            "     Portfolio returns (daily %)  crypto20 returns (daily %)  \\\n",
            "0                       0.000000                         NaN   \n",
            "1                       3.551220                    3.536452   \n",
            "2                       4.469519                    5.951696   \n",
            "3                       0.311197                    0.493248   \n",
            "4                       0.875831                   -0.688333   \n",
            "..                           ...                         ...   \n",
            "176                    -4.267838                   -5.095454   \n",
            "177                    -5.003188                   -5.469113   \n",
            "178                    -0.491274                    0.208507   \n",
            "179                    -1.048780                    0.279638   \n",
            "180                    -1.171608                   -2.069604   \n",
            "\n",
            "     Daily Tracking Error %  \n",
            "0                       NaN  \n",
            "1                  0.014768  \n",
            "2                 -1.482177  \n",
            "3                 -0.182051  \n",
            "4                  1.564164  \n",
            "..                      ...  \n",
            "176                0.827616  \n",
            "177                0.465925  \n",
            "178               -0.699781  \n",
            "179               -1.328418  \n",
            "180                0.897996  \n",
            "\n",
            "[181 rows x 3 columns]\n",
            "Tracking Error % For Full Period Assessed 3.295\n"
          ]
        },
        {
          "output_type": "display_data",
          "data": {
            "text/html": [
              "<html>\n",
              "<head><meta charset=\"utf-8\" /></head>\n",
              "<body>\n",
              "    <div>            <script src=\"https://cdnjs.cloudflare.com/ajax/libs/mathjax/2.7.5/MathJax.js?config=TeX-AMS-MML_SVG\"></script><script type=\"text/javascript\">if (window.MathJax) {MathJax.Hub.Config({SVG: {font: \"STIX-Web\"}});}</script>                <script type=\"text/javascript\">window.PlotlyConfig = {MathJaxConfig: 'local'};</script>\n",
              "        <script src=\"https://cdn.plot.ly/plotly-2.8.3.min.js\"></script>                <div id=\"fb7b5aa1-15a4-48a8-8550-ee9778c1626b\" class=\"plotly-graph-div\" style=\"height:525px; width:100%;\"></div>            <script type=\"text/javascript\">                                    window.PLOTLYENV=window.PLOTLYENV || {};                                    if (document.getElementById(\"fb7b5aa1-15a4-48a8-8550-ee9778c1626b\")) {                    Plotly.newPlot(                        \"fb7b5aa1-15a4-48a8-8550-ee9778c1626b\",                        [{\"hovertemplate\":\"Legend=Daily Tracking Error %<br>No. of Days (180)=%{x}<br>Error %=%{y}<extra></extra>\",\"legendgroup\":\"Daily Tracking Error %\",\"line\":{\"color\":\"green\",\"dash\":\"solid\",\"width\":2},\"marker\":{\"symbol\":\"circle\"},\"mode\":\"lines\",\"name\":\"Daily Tracking Error %\",\"orientation\":\"v\",\"showlegend\":true,\"x\":[0,1,2,3,4,5,6,7,8,9,10,11,12,13,14,15,16,17,18,19,20,21,22,23,24,25,26,27,28,29,30,31,32,33,34,35,36,37,38,39,40,41,42,43,44,45,46,47,48,49,50,51,52,53,54,55,56,57,58,59,60,61,62,63,64,65,66,67,68,69,70,71,72,73,74,75,76,77,78,79,80,81,82,83,84,85,86,87,88,89,90,91,92,93,94,95,96,97,98,99,100,101,102,103,104,105,106,107,108,109,110,111,112,113,114,115,116,117,118,119,120,121,122,123,124,125,126,127,128,129,130,131,132,133,134,135,136,137,138,139,140,141,142,143,144,145,146,147,148,149,150,151,152,153,154,155,156,157,158,159,160,161,162,163,164,165,166,167,168,169,170,171,172,173,174,175,176,177,178,179,180],\"xaxis\":\"x\",\"y\":[null,0.014767757135484505,-1.4821767353341793,-0.18205113260336753,1.5641644096877552,-5.6597420022067215,0.4701670301377181,-0.22248069119718883,3.5065662974635288,-3.7049166840663688,0.5892901309939135,0.5543396118608896,0.5262762215173407,-4.341335129771947,2.114368044787751,0.6803209355245514,0.1713901553870527,-1.0415212631324924,-1.0351566715687759,-1.336625725856074,0.6503543487339769,-4.208038532603878,2.2865064973084137,-2.4390176015344567,0.5848232317560642,0.4871838663521739,-0.23244919254905172,0.7762357406653404,-1.0680719946859192,0.7764398453236454,1.6476854239736296,0.5604290703875603,-2.513089147424139,-3.3476191611761053,1.731644484745824,4.375238454498768,0.5287420081271725,-5.8924245286948285,4.789168498170472,-1.1037194802519195,1.0401705677578121,-0.1261277529334337,-1.5553191953831864,4.2399688124290735,0.117032215331351,-3.9788244216048554,2.3837842410549355,1.2688905422304955,0.5865242807387654,-3.1189739478530187,-2.6630923927500567,0.0837861718911237,2.9443027757486626,1.3279810106981431,1.6147362437965316,-0.23010683698492151,0.2775025411966294,1.6961279248587458,1.9457995256800782,-2.513080019936705,0.8151447895638879,-0.7744611412827473,4.605267846365718,-8.488208818744024,3.400167461946728,-3.658523623668835,3.619288152174268,-1.388328860644247,1.8353863858056583,1.5037339251585835,-3.12829048661735,4.260086184587949,2.3827866498454364,11.098173474309956,-1.6714233662983464,2.4539058701028953,1.1928532611181177,-4.130481200258483,-1.8737524276346014,2.5265084605248163,-4.188646455864807,2.6470721793650895,-2.254762064163746,0.4434971957157263,-3.8327585849353203,-0.20474378788588798,3.3561354950546276,3.893935188357015,-1.6265255200872308,-0.9443073296356641,3.825163753190425,2.873864889375957,1.8312818705327438,-4.892574451692855,3.3706445866787558,-4.816227410561709,2.447930927207368,0.7552541312445031,5.515230863955714,-1.0092325159273572,1.5175030848080393,2.3413867275258715,-0.0462149186591434,-3.532054764716441,0.7599137252232213,0.4427027776964332,0.6806070358210564,1.2248327950157591,-0.4717636518926298,-4.476020871299818,1.6514099126933495,0.6463673640120382,-0.2548636977550087,-0.9992666952853861,-0.5155023875349052,2.5931735282234074,-1.8803547937187834,-0.6612587312143132,7.877499259901658,1.1731010722165083,-3.7578500026561765,0.6737501687313933,-1.5378720479687589,-1.523228940001415,-0.5874297727844918,2.8884392153319465,-3.057593774618619,5.584538981235345,-4.11425908339417,1.52546332232057,-0.9738095612505735,-2.9468026786801027,1.4090306273498472,0.7341302400778558,4.510154565076029,-0.36284852491784547,-1.8620689672330002,-0.5101144823344596,1.5622443714568486,-1.5881342878609113,4.40438915559944,-4.039613364128174,5.286904865020998,-0.9683313245603558,-2.009230837778487,3.848360774816378,1.785477986212923,-5.865804423169466,-1.319493253113314,0.42901710820874017,0.5666373015306503,0.23384464432625485,-2.757942146682736,1.5120224622856062,0.09066641834991218,0.4656245151568843,2.8024602290151286,9.742470587809013,-13.871416760646646,7.120674366387057,-7.527529370102593,7.332730682010066,1.5601944133058876,-7.72293692421293,-1.1370092658038733,-0.16626242062786056,-1.1829508279516787,-7.046674478633941,6.333567761647161,6.676970151361439,-2.953331570178438,-1.4707442738409606,0.21519194150858478,1.996492980772807,-5.061103662639875,4.067548759938388,0.8276163715943339,0.4659246624813438,-0.699780865563215,-1.328418304390262,0.8979960240151701],\"yaxis\":\"y\",\"type\":\"scatter\"}],                        {\"template\":{\"data\":{\"bar\":[{\"error_x\":{\"color\":\"#2a3f5f\"},\"error_y\":{\"color\":\"#2a3f5f\"},\"marker\":{\"line\":{\"color\":\"#E5ECF6\",\"width\":0.5},\"pattern\":{\"fillmode\":\"overlay\",\"size\":10,\"solidity\":0.2}},\"type\":\"bar\"}],\"barpolar\":[{\"marker\":{\"line\":{\"color\":\"#E5ECF6\",\"width\":0.5},\"pattern\":{\"fillmode\":\"overlay\",\"size\":10,\"solidity\":0.2}},\"type\":\"barpolar\"}],\"carpet\":[{\"aaxis\":{\"endlinecolor\":\"#2a3f5f\",\"gridcolor\":\"white\",\"linecolor\":\"white\",\"minorgridcolor\":\"white\",\"startlinecolor\":\"#2a3f5f\"},\"baxis\":{\"endlinecolor\":\"#2a3f5f\",\"gridcolor\":\"white\",\"linecolor\":\"white\",\"minorgridcolor\":\"white\",\"startlinecolor\":\"#2a3f5f\"},\"type\":\"carpet\"}],\"choropleth\":[{\"colorbar\":{\"outlinewidth\":0,\"ticks\":\"\"},\"type\":\"choropleth\"}],\"contour\":[{\"colorbar\":{\"outlinewidth\":0,\"ticks\":\"\"},\"colorscale\":[[0.0,\"#0d0887\"],[0.1111111111111111,\"#46039f\"],[0.2222222222222222,\"#7201a8\"],[0.3333333333333333,\"#9c179e\"],[0.4444444444444444,\"#bd3786\"],[0.5555555555555556,\"#d8576b\"],[0.6666666666666666,\"#ed7953\"],[0.7777777777777778,\"#fb9f3a\"],[0.8888888888888888,\"#fdca26\"],[1.0,\"#f0f921\"]],\"type\":\"contour\"}],\"contourcarpet\":[{\"colorbar\":{\"outlinewidth\":0,\"ticks\":\"\"},\"type\":\"contourcarpet\"}],\"heatmap\":[{\"colorbar\":{\"outlinewidth\":0,\"ticks\":\"\"},\"colorscale\":[[0.0,\"#0d0887\"],[0.1111111111111111,\"#46039f\"],[0.2222222222222222,\"#7201a8\"],[0.3333333333333333,\"#9c179e\"],[0.4444444444444444,\"#bd3786\"],[0.5555555555555556,\"#d8576b\"],[0.6666666666666666,\"#ed7953\"],[0.7777777777777778,\"#fb9f3a\"],[0.8888888888888888,\"#fdca26\"],[1.0,\"#f0f921\"]],\"type\":\"heatmap\"}],\"heatmapgl\":[{\"colorbar\":{\"outlinewidth\":0,\"ticks\":\"\"},\"colorscale\":[[0.0,\"#0d0887\"],[0.1111111111111111,\"#46039f\"],[0.2222222222222222,\"#7201a8\"],[0.3333333333333333,\"#9c179e\"],[0.4444444444444444,\"#bd3786\"],[0.5555555555555556,\"#d8576b\"],[0.6666666666666666,\"#ed7953\"],[0.7777777777777778,\"#fb9f3a\"],[0.8888888888888888,\"#fdca26\"],[1.0,\"#f0f921\"]],\"type\":\"heatmapgl\"}],\"histogram\":[{\"marker\":{\"pattern\":{\"fillmode\":\"overlay\",\"size\":10,\"solidity\":0.2}},\"type\":\"histogram\"}],\"histogram2d\":[{\"colorbar\":{\"outlinewidth\":0,\"ticks\":\"\"},\"colorscale\":[[0.0,\"#0d0887\"],[0.1111111111111111,\"#46039f\"],[0.2222222222222222,\"#7201a8\"],[0.3333333333333333,\"#9c179e\"],[0.4444444444444444,\"#bd3786\"],[0.5555555555555556,\"#d8576b\"],[0.6666666666666666,\"#ed7953\"],[0.7777777777777778,\"#fb9f3a\"],[0.8888888888888888,\"#fdca26\"],[1.0,\"#f0f921\"]],\"type\":\"histogram2d\"}],\"histogram2dcontour\":[{\"colorbar\":{\"outlinewidth\":0,\"ticks\":\"\"},\"colorscale\":[[0.0,\"#0d0887\"],[0.1111111111111111,\"#46039f\"],[0.2222222222222222,\"#7201a8\"],[0.3333333333333333,\"#9c179e\"],[0.4444444444444444,\"#bd3786\"],[0.5555555555555556,\"#d8576b\"],[0.6666666666666666,\"#ed7953\"],[0.7777777777777778,\"#fb9f3a\"],[0.8888888888888888,\"#fdca26\"],[1.0,\"#f0f921\"]],\"type\":\"histogram2dcontour\"}],\"mesh3d\":[{\"colorbar\":{\"outlinewidth\":0,\"ticks\":\"\"},\"type\":\"mesh3d\"}],\"parcoords\":[{\"line\":{\"colorbar\":{\"outlinewidth\":0,\"ticks\":\"\"}},\"type\":\"parcoords\"}],\"pie\":[{\"automargin\":true,\"type\":\"pie\"}],\"scatter\":[{\"marker\":{\"colorbar\":{\"outlinewidth\":0,\"ticks\":\"\"}},\"type\":\"scatter\"}],\"scatter3d\":[{\"line\":{\"colorbar\":{\"outlinewidth\":0,\"ticks\":\"\"}},\"marker\":{\"colorbar\":{\"outlinewidth\":0,\"ticks\":\"\"}},\"type\":\"scatter3d\"}],\"scattercarpet\":[{\"marker\":{\"colorbar\":{\"outlinewidth\":0,\"ticks\":\"\"}},\"type\":\"scattercarpet\"}],\"scattergeo\":[{\"marker\":{\"colorbar\":{\"outlinewidth\":0,\"ticks\":\"\"}},\"type\":\"scattergeo\"}],\"scattergl\":[{\"marker\":{\"colorbar\":{\"outlinewidth\":0,\"ticks\":\"\"}},\"type\":\"scattergl\"}],\"scattermapbox\":[{\"marker\":{\"colorbar\":{\"outlinewidth\":0,\"ticks\":\"\"}},\"type\":\"scattermapbox\"}],\"scatterpolar\":[{\"marker\":{\"colorbar\":{\"outlinewidth\":0,\"ticks\":\"\"}},\"type\":\"scatterpolar\"}],\"scatterpolargl\":[{\"marker\":{\"colorbar\":{\"outlinewidth\":0,\"ticks\":\"\"}},\"type\":\"scatterpolargl\"}],\"scatterternary\":[{\"marker\":{\"colorbar\":{\"outlinewidth\":0,\"ticks\":\"\"}},\"type\":\"scatterternary\"}],\"surface\":[{\"colorbar\":{\"outlinewidth\":0,\"ticks\":\"\"},\"colorscale\":[[0.0,\"#0d0887\"],[0.1111111111111111,\"#46039f\"],[0.2222222222222222,\"#7201a8\"],[0.3333333333333333,\"#9c179e\"],[0.4444444444444444,\"#bd3786\"],[0.5555555555555556,\"#d8576b\"],[0.6666666666666666,\"#ed7953\"],[0.7777777777777778,\"#fb9f3a\"],[0.8888888888888888,\"#fdca26\"],[1.0,\"#f0f921\"]],\"type\":\"surface\"}],\"table\":[{\"cells\":{\"fill\":{\"color\":\"#EBF0F8\"},\"line\":{\"color\":\"white\"}},\"header\":{\"fill\":{\"color\":\"#C8D4E3\"},\"line\":{\"color\":\"white\"}},\"type\":\"table\"}]},\"layout\":{\"annotationdefaults\":{\"arrowcolor\":\"#2a3f5f\",\"arrowhead\":0,\"arrowwidth\":1},\"autotypenumbers\":\"strict\",\"coloraxis\":{\"colorbar\":{\"outlinewidth\":0,\"ticks\":\"\"}},\"colorscale\":{\"diverging\":[[0,\"#8e0152\"],[0.1,\"#c51b7d\"],[0.2,\"#de77ae\"],[0.3,\"#f1b6da\"],[0.4,\"#fde0ef\"],[0.5,\"#f7f7f7\"],[0.6,\"#e6f5d0\"],[0.7,\"#b8e186\"],[0.8,\"#7fbc41\"],[0.9,\"#4d9221\"],[1,\"#276419\"]],\"sequential\":[[0.0,\"#0d0887\"],[0.1111111111111111,\"#46039f\"],[0.2222222222222222,\"#7201a8\"],[0.3333333333333333,\"#9c179e\"],[0.4444444444444444,\"#bd3786\"],[0.5555555555555556,\"#d8576b\"],[0.6666666666666666,\"#ed7953\"],[0.7777777777777778,\"#fb9f3a\"],[0.8888888888888888,\"#fdca26\"],[1.0,\"#f0f921\"]],\"sequentialminus\":[[0.0,\"#0d0887\"],[0.1111111111111111,\"#46039f\"],[0.2222222222222222,\"#7201a8\"],[0.3333333333333333,\"#9c179e\"],[0.4444444444444444,\"#bd3786\"],[0.5555555555555556,\"#d8576b\"],[0.6666666666666666,\"#ed7953\"],[0.7777777777777778,\"#fb9f3a\"],[0.8888888888888888,\"#fdca26\"],[1.0,\"#f0f921\"]]},\"colorway\":[\"#636efa\",\"#EF553B\",\"#00cc96\",\"#ab63fa\",\"#FFA15A\",\"#19d3f3\",\"#FF6692\",\"#B6E880\",\"#FF97FF\",\"#FECB52\"],\"font\":{\"color\":\"#2a3f5f\"},\"geo\":{\"bgcolor\":\"white\",\"lakecolor\":\"white\",\"landcolor\":\"#E5ECF6\",\"showlakes\":true,\"showland\":true,\"subunitcolor\":\"white\"},\"hoverlabel\":{\"align\":\"left\"},\"hovermode\":\"closest\",\"mapbox\":{\"style\":\"light\"},\"paper_bgcolor\":\"white\",\"plot_bgcolor\":\"#E5ECF6\",\"polar\":{\"angularaxis\":{\"gridcolor\":\"white\",\"linecolor\":\"white\",\"ticks\":\"\"},\"bgcolor\":\"#E5ECF6\",\"radialaxis\":{\"gridcolor\":\"white\",\"linecolor\":\"white\",\"ticks\":\"\"}},\"scene\":{\"xaxis\":{\"backgroundcolor\":\"#E5ECF6\",\"gridcolor\":\"white\",\"gridwidth\":2,\"linecolor\":\"white\",\"showbackground\":true,\"ticks\":\"\",\"zerolinecolor\":\"white\"},\"yaxis\":{\"backgroundcolor\":\"#E5ECF6\",\"gridcolor\":\"white\",\"gridwidth\":2,\"linecolor\":\"white\",\"showbackground\":true,\"ticks\":\"\",\"zerolinecolor\":\"white\"},\"zaxis\":{\"backgroundcolor\":\"#E5ECF6\",\"gridcolor\":\"white\",\"gridwidth\":2,\"linecolor\":\"white\",\"showbackground\":true,\"ticks\":\"\",\"zerolinecolor\":\"white\"}},\"shapedefaults\":{\"line\":{\"color\":\"#2a3f5f\"}},\"ternary\":{\"aaxis\":{\"gridcolor\":\"white\",\"linecolor\":\"white\",\"ticks\":\"\"},\"baxis\":{\"gridcolor\":\"white\",\"linecolor\":\"white\",\"ticks\":\"\"},\"bgcolor\":\"#E5ECF6\",\"caxis\":{\"gridcolor\":\"white\",\"linecolor\":\"white\",\"ticks\":\"\"}},\"title\":{\"x\":0.05},\"xaxis\":{\"automargin\":true,\"gridcolor\":\"white\",\"linecolor\":\"white\",\"ticks\":\"\",\"title\":{\"standoff\":15},\"zerolinecolor\":\"white\",\"zerolinewidth\":2},\"yaxis\":{\"automargin\":true,\"gridcolor\":\"white\",\"linecolor\":\"white\",\"ticks\":\"\",\"title\":{\"standoff\":15},\"zerolinecolor\":\"white\",\"zerolinewidth\":2}}},\"xaxis\":{\"anchor\":\"y\",\"domain\":[0.0,1.0],\"title\":{\"text\":\"No. of Days (180)\"}},\"yaxis\":{\"anchor\":\"x\",\"domain\":[0.0,1.0],\"title\":{\"text\":\"Error %\"}},\"legend\":{\"title\":{\"text\":\"Legend\"},\"tracegroupgap\":0},\"title\":{\"text\":\"Daily Tracking Error % (Portfolio Vs Crypto20)\"},\"shapes\":[{\"line\":{\"color\":\"blue\",\"dash\":\"dash\",\"width\":1.5},\"type\":\"line\",\"x0\":0,\"x1\":1,\"xref\":\"x domain\",\"y0\":3.0,\"y1\":3.0,\"yref\":\"y\"},{\"line\":{\"color\":\"red\",\"dash\":\"dash\",\"width\":1.5},\"type\":\"line\",\"x0\":0,\"x1\":1,\"xref\":\"x domain\",\"y0\":-3,\"y1\":-3,\"yref\":\"y\"}],\"annotations\":[{\"showarrow\":false,\"text\":\"3%\",\"x\":0,\"xanchor\":\"left\",\"xref\":\"x domain\",\"y\":3.0,\"yanchor\":\"bottom\",\"yref\":\"y\"},{\"showarrow\":false,\"text\":\"-3%\",\"x\":0,\"xanchor\":\"left\",\"xref\":\"x domain\",\"y\":-3,\"yanchor\":\"top\",\"yref\":\"y\"},{\"align\":\"left\",\"font\":{\"color\":\"blue\",\"size\":20},\"showarrow\":false,\"text\":\"180 Days Period Tracking Error % is 3.295\",\"x\":0,\"xref\":\"paper\",\"y\":-0.15,\"yref\":\"paper\"}]},                        {\"responsive\": true}                    ).then(function(){\n",
              "                            \n",
              "var gd = document.getElementById('fb7b5aa1-15a4-48a8-8550-ee9778c1626b');\n",
              "var x = new MutationObserver(function (mutations, observer) {{\n",
              "        var display = window.getComputedStyle(gd).display;\n",
              "        if (!display || display === 'none') {{\n",
              "            console.log([gd, 'removed!']);\n",
              "            Plotly.purge(gd);\n",
              "            observer.disconnect();\n",
              "        }}\n",
              "}});\n",
              "\n",
              "// Listen for the removal of the full notebook cells\n",
              "var notebookContainer = gd.closest('#notebook-container');\n",
              "if (notebookContainer) {{\n",
              "    x.observe(notebookContainer, {childList: true});\n",
              "}}\n",
              "\n",
              "// Listen for the clearing of the current output cell\n",
              "var outputEl = gd.closest('.output');\n",
              "if (outputEl) {{\n",
              "    x.observe(outputEl, {childList: true});\n",
              "}}\n",
              "\n",
              "                        })                };                            </script>        </div>\n",
              "</body>\n",
              "</html>"
            ]
          },
          "metadata": {}
        }
      ]
    }
  ]
}