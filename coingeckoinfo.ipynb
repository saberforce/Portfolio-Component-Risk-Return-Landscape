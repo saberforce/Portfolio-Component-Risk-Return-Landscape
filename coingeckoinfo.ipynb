{
  "nbformat": 4,
  "nbformat_minor": 0,
  "metadata": {
    "colab": {
      "name": "Copy of coingeckoinfo.ipynb",
      "provenance": [],
      "collapsed_sections": [],
      "authorship_tag": "ABX9TyOVXksFjeF4mnspbn5PIoD+",
      "include_colab_link": true
    },
    "kernelspec": {
      "name": "python3",
      "display_name": "Python 3"
    },
    "language_info": {
      "name": "python"
    }
  },
  "cells": [
    {
      "cell_type": "markdown",
      "metadata": {
        "id": "view-in-github",
        "colab_type": "text"
      },
      "source": [
        "<a href=\"https://colab.research.google.com/github/saberforce/Portfolio-Component-Risk-Return-Landscape/blob/main/coingeckoinfo.ipynb\" target=\"_parent\"><img src=\"https://colab.research.google.com/assets/colab-badge.svg\" alt=\"Open In Colab\"/></a>"
      ]
    },
    {
      "cell_type": "markdown",
      "source": [
        ""
      ],
      "metadata": {
        "id": "jaPnUYENKdgr"
      }
    },
    {
      "cell_type": "code",
      "execution_count": 1,
      "metadata": {
        "id": "Twbx46hTD1-5",
        "colab": {
          "base_uri": "https://localhost:8080/"
        },
        "outputId": "f41bf5ca-3a7e-4e2f-8a9f-bc6de5cb7a37"
      },
      "outputs": [
        {
          "output_type": "stream",
          "name": "stdout",
          "text": [
            "Collecting pycoingecko\n",
            "  Downloading pycoingecko-2.2.0-py3-none-any.whl (8.3 kB)\n",
            "Requirement already satisfied: requests in /usr/local/lib/python3.7/dist-packages (from pycoingecko) (2.23.0)\n",
            "Requirement already satisfied: idna<3,>=2.5 in /usr/local/lib/python3.7/dist-packages (from requests->pycoingecko) (2.10)\n",
            "Requirement already satisfied: urllib3!=1.25.0,!=1.25.1,<1.26,>=1.21.1 in /usr/local/lib/python3.7/dist-packages (from requests->pycoingecko) (1.24.3)\n",
            "Requirement already satisfied: certifi>=2017.4.17 in /usr/local/lib/python3.7/dist-packages (from requests->pycoingecko) (2021.10.8)\n",
            "Requirement already satisfied: chardet<4,>=3.0.2 in /usr/local/lib/python3.7/dist-packages (from requests->pycoingecko) (3.0.4)\n",
            "Installing collected packages: pycoingecko\n",
            "Successfully installed pycoingecko-2.2.0\n"
          ]
        }
      ],
      "source": [
        "pip install pycoingecko\n"
      ]
    },
    {
      "cell_type": "code",
      "source": [
        "import pandas as pd\n",
        "import requests\n",
        "import plotly.express as px"
      ],
      "metadata": {
        "id": "wfK8FJCkRw_N"
      },
      "execution_count": 2,
      "outputs": []
    },
    {
      "cell_type": "code",
      "source": [
        "from pycoingecko import CoinGeckoAPI\n",
        "cg = CoinGeckoAPI()\n"
      ],
      "metadata": {
        "id": "-LtZGNa9LGPm"
      },
      "execution_count": 3,
      "outputs": []
    },
    {
      "cell_type": "code",
      "source": [
        "\n",
        "portfoliolist=['bitcoin', 'ethereum', 'wmatic','chainlink', 'uniswap','the-sandbox',\n",
        "           'decentraland','the-graph','aave', 'wrapped-usdc']\n",
        "\n",
        "# Allocated % Inside The Portfolio In Ordered Sequence\n",
        "portfoliolistportion=[0.2,0.2,0.1,0.1,0.05,0.05,0.05,0.05,0.05,0.15]\n",
        "\n",
        "# For Each Coin Get A List Of Prices Over The Last 365 Days\n",
        "def get_asset_price(assetlist):\n",
        "  assetdict={}\n",
        "  for coin in assetlist:\n",
        "    asset_price=cg.get_coin_market_chart_by_id(id=coin,vs_currency='usd',days='364')\n",
        "    pricelist=[]\n",
        "    num_of_prices=len(asset_price['prices'])\n",
        "    for k in range(num_of_prices):\n",
        "\n",
        "      coinprice=(asset_price['prices'][k][1])\n",
        "      pricelist.append(coinprice)\n",
        "\n",
        "\n",
        " #Prep data - deficient data count for some coins\n",
        "    assetdict[f'{coin}']=pd.Series(pricelist)\n",
        "\n",
        "  return assetdict\n",
        "\n",
        "# Getting A List of Returns Derived From Daily Prices For Each Coin, \n",
        "# The Expected Mean Of Return And The Standard Deviation For Each Coin\n",
        "# Deriving The Portfolio Mean And Portfolio Standard Deviation\n",
        "\n",
        "def calculate_stats(assetdict, assetlist, assetlistportion, df1, list_of_mean, list_of_std):\n",
        "  n=0\n",
        "  portfolio_mean=0\n",
        "  portfolio_std=0\n",
        "\n",
        "  returnlist = [x+\"_returns\" for x in assetlist]\n",
        "\n",
        "  for k,v in assetdict.items():\n",
        "    df1[f'{k}']=v\n",
        "    df1[returnlist[n]]=df1[f'{k}'].pct_change(1)\n",
        "    \n",
        "    asset_mean=df1[returnlist[n]].mean()*100\n",
        "    asset_std=df1[returnlist[n]].std()*100\n",
        "\n",
        "    portfolio_mean=portfolio_mean+(assetlistportion[n]*asset_mean)\n",
        "\n",
        "    portfolio_std=portfolio_std+(assetlistportion[n]*asset_std)\n",
        "\n",
        "    list_of_mean.append(asset_mean)\n",
        "    list_of_std.append(asset_std)\n",
        "    n=n+1\n",
        "  return portfolio_mean, portfolio_std\n",
        "\n",
        "def plot_scatter(dfa,x,y):\n",
        "  fig = px.scatter(dfa, x, y,\n",
        "                 hover_name=\"name\", \n",
        "                 color= \"name\", \n",
        "                 size= abs(dfa['mean%']),\n",
        "                 size_max=50,\n",
        "                 text=\"name\",\n",
        "                 title=\"Risk Return Landscape\",\n",
        "\n",
        "\n",
        "\n",
        "                 )\n",
        "\n",
        "\n",
        "  fig.show()\n",
        "\n",
        "def main(portfoliolist, portfoliolistportion):\n",
        "\n",
        "  coindict=get_asset_price(portfoliolist)\n",
        "  df_asset_price=pd.DataFrame()\n",
        "  meanlist=[] #list is mutable by method\n",
        "  stdlist=[]\n",
        "\n",
        "  portfolio_mean, portfolio_std= calculate_stats(coindict, portfoliolist, \n",
        "                                                 portfoliolistportion, \n",
        "                                                 df_asset_price, meanlist,stdlist)\n",
        "  \n",
        "  portfoliolist.append('portfolio')\n",
        "  meanlist.append(portfolio_mean)\n",
        "  stdlist.append(portfolio_std)\n",
        "  \n",
        "  # Finalizing The Finished Dataframe Tabulation For 9 Coins And 1 Portfolio Item\n",
        "\n",
        "  listOfFinals = list(zip(portfoliolist, meanlist, stdlist))\n",
        "\n",
        "  df_final = pd.DataFrame(listOfFinals, columns = ['name', 'mean%','std%'])\n",
        "  print(df_final)\n",
        "\n",
        "  plot_scatter(df_final, x=\"std%\", y=\"mean%\")\n",
        "\n",
        "\n",
        "if __name__ == \"__main__\":\n",
        "  main(portfoliolist, portfoliolistportion)"
      ],
      "metadata": {
        "id": "OXMOeiYKpsOV",
        "colab": {
          "base_uri": "https://localhost:8080/",
          "height": 750
        },
        "outputId": "d20c04ef-20b4-4544-ff90-c05b9c7ffbb0"
      },
      "execution_count": 7,
      "outputs": [
        {
          "output_type": "stream",
          "name": "stdout",
          "text": [
            "            name     mean%       std%\n",
            "0        bitcoin  0.036822   3.849849\n",
            "1       ethereum  0.264723   5.125423\n",
            "2         wmatic  1.042799   9.060168\n",
            "3      chainlink  0.034655   6.762507\n",
            "4        uniswap  0.061821   7.129969\n",
            "5    the-sandbox  1.290821  10.674260\n",
            "6   decentraland  1.141305  11.786533\n",
            "7      the-graph -0.193187   7.174721\n",
            "8           aave -0.062936   6.723655\n",
            "9   wrapped-usdc  0.018285   2.162390\n",
            "10     portfolio  0.282688   5.876137\n"
          ]
        },
        {
          "output_type": "display_data",
          "data": {
            "text/html": [
              "<html>\n",
              "<head><meta charset=\"utf-8\" /></head>\n",
              "<body>\n",
              "    <div>            <script src=\"https://cdnjs.cloudflare.com/ajax/libs/mathjax/2.7.5/MathJax.js?config=TeX-AMS-MML_SVG\"></script><script type=\"text/javascript\">if (window.MathJax) {MathJax.Hub.Config({SVG: {font: \"STIX-Web\"}});}</script>                <script type=\"text/javascript\">window.PlotlyConfig = {MathJaxConfig: 'local'};</script>\n",
              "        <script src=\"https://cdn.plot.ly/plotly-2.8.3.min.js\"></script>                <div id=\"0b31c5d9-39b0-4ad9-acbc-c60fe30c1ed0\" class=\"plotly-graph-div\" style=\"height:525px; width:100%;\"></div>            <script type=\"text/javascript\">                                    window.PLOTLYENV=window.PLOTLYENV || {};                                    if (document.getElementById(\"0b31c5d9-39b0-4ad9-acbc-c60fe30c1ed0\")) {                    Plotly.newPlot(                        \"0b31c5d9-39b0-4ad9-acbc-c60fe30c1ed0\",                        [{\"hovertemplate\":\"<b>%{hovertext}</b><br><br>name=%{text}<br>std%=%{x}<br>mean%=%{y}<br>size=%{marker.size}<extra></extra>\",\"hovertext\":[\"bitcoin\"],\"legendgroup\":\"bitcoin\",\"marker\":{\"color\":\"#636efa\",\"size\":[0.036821632496971256],\"sizemode\":\"area\",\"sizeref\":0.0005163282239341651,\"symbol\":\"circle\"},\"mode\":\"markers+text\",\"name\":\"bitcoin\",\"orientation\":\"v\",\"showlegend\":true,\"text\":[\"bitcoin\"],\"x\":[3.8498486131090806],\"xaxis\":\"x\",\"y\":[0.036821632496971256],\"yaxis\":\"y\",\"type\":\"scatter\"},{\"hovertemplate\":\"<b>%{hovertext}</b><br><br>name=%{text}<br>std%=%{x}<br>mean%=%{y}<br>size=%{marker.size}<extra></extra>\",\"hovertext\":[\"ethereum\"],\"legendgroup\":\"ethereum\",\"marker\":{\"color\":\"#EF553B\",\"size\":[0.26472334537036807],\"sizemode\":\"area\",\"sizeref\":0.0005163282239341651,\"symbol\":\"circle\"},\"mode\":\"markers+text\",\"name\":\"ethereum\",\"orientation\":\"v\",\"showlegend\":true,\"text\":[\"ethereum\"],\"x\":[5.125422971768246],\"xaxis\":\"x\",\"y\":[0.26472334537036807],\"yaxis\":\"y\",\"type\":\"scatter\"},{\"hovertemplate\":\"<b>%{hovertext}</b><br><br>name=%{text}<br>std%=%{x}<br>mean%=%{y}<br>size=%{marker.size}<extra></extra>\",\"hovertext\":[\"wmatic\"],\"legendgroup\":\"wmatic\",\"marker\":{\"color\":\"#00cc96\",\"size\":[1.0427993955325046],\"sizemode\":\"area\",\"sizeref\":0.0005163282239341651,\"symbol\":\"circle\"},\"mode\":\"markers+text\",\"name\":\"wmatic\",\"orientation\":\"v\",\"showlegend\":true,\"text\":[\"wmatic\"],\"x\":[9.060167705825243],\"xaxis\":\"x\",\"y\":[1.0427993955325046],\"yaxis\":\"y\",\"type\":\"scatter\"},{\"hovertemplate\":\"<b>%{hovertext}</b><br><br>name=%{text}<br>std%=%{x}<br>mean%=%{y}<br>size=%{marker.size}<extra></extra>\",\"hovertext\":[\"chainlink\"],\"legendgroup\":\"chainlink\",\"marker\":{\"color\":\"#ab63fa\",\"size\":[0.03465500816089776],\"sizemode\":\"area\",\"sizeref\":0.0005163282239341651,\"symbol\":\"circle\"},\"mode\":\"markers+text\",\"name\":\"chainlink\",\"orientation\":\"v\",\"showlegend\":true,\"text\":[\"chainlink\"],\"x\":[6.762506921100055],\"xaxis\":\"x\",\"y\":[0.03465500816089776],\"yaxis\":\"y\",\"type\":\"scatter\"},{\"hovertemplate\":\"<b>%{hovertext}</b><br><br>name=%{text}<br>std%=%{x}<br>mean%=%{y}<br>size=%{marker.size}<extra></extra>\",\"hovertext\":[\"uniswap\"],\"legendgroup\":\"uniswap\",\"marker\":{\"color\":\"#FFA15A\",\"size\":[0.06182105338005852],\"sizemode\":\"area\",\"sizeref\":0.0005163282239341651,\"symbol\":\"circle\"},\"mode\":\"markers+text\",\"name\":\"uniswap\",\"orientation\":\"v\",\"showlegend\":true,\"text\":[\"uniswap\"],\"x\":[7.129968507861973],\"xaxis\":\"x\",\"y\":[0.06182105338005852],\"yaxis\":\"y\",\"type\":\"scatter\"},{\"hovertemplate\":\"<b>%{hovertext}</b><br><br>name=%{text}<br>std%=%{x}<br>mean%=%{y}<br>size=%{marker.size}<extra></extra>\",\"hovertext\":[\"the-sandbox\"],\"legendgroup\":\"the-sandbox\",\"marker\":{\"color\":\"#19d3f3\",\"size\":[1.2908205598354128],\"sizemode\":\"area\",\"sizeref\":0.0005163282239341651,\"symbol\":\"circle\"},\"mode\":\"markers+text\",\"name\":\"the-sandbox\",\"orientation\":\"v\",\"showlegend\":true,\"text\":[\"the-sandbox\"],\"x\":[10.674259627523695],\"xaxis\":\"x\",\"y\":[1.2908205598354128],\"yaxis\":\"y\",\"type\":\"scatter\"},{\"hovertemplate\":\"<b>%{hovertext}</b><br><br>name=%{text}<br>std%=%{x}<br>mean%=%{y}<br>size=%{marker.size}<extra></extra>\",\"hovertext\":[\"decentraland\"],\"legendgroup\":\"decentraland\",\"marker\":{\"color\":\"#FF6692\",\"size\":[1.1413052507859283],\"sizemode\":\"area\",\"sizeref\":0.0005163282239341651,\"symbol\":\"circle\"},\"mode\":\"markers+text\",\"name\":\"decentraland\",\"orientation\":\"v\",\"showlegend\":true,\"text\":[\"decentraland\"],\"x\":[11.786532837724707],\"xaxis\":\"x\",\"y\":[1.1413052507859283],\"yaxis\":\"y\",\"type\":\"scatter\"},{\"hovertemplate\":\"<b>%{hovertext}</b><br><br>name=%{text}<br>std%=%{x}<br>mean%=%{y}<br>size=%{marker.size}<extra></extra>\",\"hovertext\":[\"the-graph\"],\"legendgroup\":\"the-graph\",\"marker\":{\"color\":\"#B6E880\",\"size\":[0.19318685271938327],\"sizemode\":\"area\",\"sizeref\":0.0005163282239341651,\"symbol\":\"circle\"},\"mode\":\"markers+text\",\"name\":\"the-graph\",\"orientation\":\"v\",\"showlegend\":true,\"text\":[\"the-graph\"],\"x\":[7.174720654478947],\"xaxis\":\"x\",\"y\":[-0.19318685271938327],\"yaxis\":\"y\",\"type\":\"scatter\"},{\"hovertemplate\":\"<b>%{hovertext}</b><br><br>name=%{text}<br>std%=%{x}<br>mean%=%{y}<br>size=%{marker.size}<extra></extra>\",\"hovertext\":[\"aave\"],\"legendgroup\":\"aave\",\"marker\":{\"color\":\"#FF97FF\",\"size\":[0.06293631019245143],\"sizemode\":\"area\",\"sizeref\":0.0005163282239341651,\"symbol\":\"circle\"},\"mode\":\"markers+text\",\"name\":\"aave\",\"orientation\":\"v\",\"showlegend\":true,\"text\":[\"aave\"],\"x\":[6.72365522916419],\"xaxis\":\"x\",\"y\":[-0.06293631019245143],\"yaxis\":\"y\",\"type\":\"scatter\"},{\"hovertemplate\":\"<b>%{hovertext}</b><br><br>name=%{text}<br>std%=%{x}<br>mean%=%{y}<br>size=%{marker.size}<extra></extra>\",\"hovertext\":[\"wrapped-usdc\"],\"legendgroup\":\"wrapped-usdc\",\"marker\":{\"color\":\"#FECB52\",\"size\":[0.018285231350299903],\"sizemode\":\"area\",\"sizeref\":0.0005163282239341651,\"symbol\":\"circle\"},\"mode\":\"markers+text\",\"name\":\"wrapped-usdc\",\"orientation\":\"v\",\"showlegend\":true,\"text\":[\"wrapped-usdc\"],\"x\":[2.162389676078805],\"xaxis\":\"x\",\"y\":[0.018285231350299903],\"yaxis\":\"y\",\"type\":\"scatter\"},{\"hovertemplate\":\"<b>%{hovertext}</b><br><br>name=%{text}<br>std%=%{x}<br>mean%=%{y}<br>size=%{marker.size}<extra></extra>\",\"hovertext\":[\"portfolio\"],\"legendgroup\":\"portfolio\",\"marker\":{\"color\":\"#636efa\",\"size\":[0.2826884056998313],\"sizemode\":\"area\",\"sizeref\":0.0005163282239341651,\"symbol\":\"circle\"},\"mode\":\"markers+text\",\"name\":\"portfolio\",\"orientation\":\"v\",\"showlegend\":true,\"text\":[\"portfolio\"],\"x\":[5.876137073917492],\"xaxis\":\"x\",\"y\":[0.2826884056998313],\"yaxis\":\"y\",\"type\":\"scatter\"}],                        {\"template\":{\"data\":{\"bar\":[{\"error_x\":{\"color\":\"#2a3f5f\"},\"error_y\":{\"color\":\"#2a3f5f\"},\"marker\":{\"line\":{\"color\":\"#E5ECF6\",\"width\":0.5},\"pattern\":{\"fillmode\":\"overlay\",\"size\":10,\"solidity\":0.2}},\"type\":\"bar\"}],\"barpolar\":[{\"marker\":{\"line\":{\"color\":\"#E5ECF6\",\"width\":0.5},\"pattern\":{\"fillmode\":\"overlay\",\"size\":10,\"solidity\":0.2}},\"type\":\"barpolar\"}],\"carpet\":[{\"aaxis\":{\"endlinecolor\":\"#2a3f5f\",\"gridcolor\":\"white\",\"linecolor\":\"white\",\"minorgridcolor\":\"white\",\"startlinecolor\":\"#2a3f5f\"},\"baxis\":{\"endlinecolor\":\"#2a3f5f\",\"gridcolor\":\"white\",\"linecolor\":\"white\",\"minorgridcolor\":\"white\",\"startlinecolor\":\"#2a3f5f\"},\"type\":\"carpet\"}],\"choropleth\":[{\"colorbar\":{\"outlinewidth\":0,\"ticks\":\"\"},\"type\":\"choropleth\"}],\"contour\":[{\"colorbar\":{\"outlinewidth\":0,\"ticks\":\"\"},\"colorscale\":[[0.0,\"#0d0887\"],[0.1111111111111111,\"#46039f\"],[0.2222222222222222,\"#7201a8\"],[0.3333333333333333,\"#9c179e\"],[0.4444444444444444,\"#bd3786\"],[0.5555555555555556,\"#d8576b\"],[0.6666666666666666,\"#ed7953\"],[0.7777777777777778,\"#fb9f3a\"],[0.8888888888888888,\"#fdca26\"],[1.0,\"#f0f921\"]],\"type\":\"contour\"}],\"contourcarpet\":[{\"colorbar\":{\"outlinewidth\":0,\"ticks\":\"\"},\"type\":\"contourcarpet\"}],\"heatmap\":[{\"colorbar\":{\"outlinewidth\":0,\"ticks\":\"\"},\"colorscale\":[[0.0,\"#0d0887\"],[0.1111111111111111,\"#46039f\"],[0.2222222222222222,\"#7201a8\"],[0.3333333333333333,\"#9c179e\"],[0.4444444444444444,\"#bd3786\"],[0.5555555555555556,\"#d8576b\"],[0.6666666666666666,\"#ed7953\"],[0.7777777777777778,\"#fb9f3a\"],[0.8888888888888888,\"#fdca26\"],[1.0,\"#f0f921\"]],\"type\":\"heatmap\"}],\"heatmapgl\":[{\"colorbar\":{\"outlinewidth\":0,\"ticks\":\"\"},\"colorscale\":[[0.0,\"#0d0887\"],[0.1111111111111111,\"#46039f\"],[0.2222222222222222,\"#7201a8\"],[0.3333333333333333,\"#9c179e\"],[0.4444444444444444,\"#bd3786\"],[0.5555555555555556,\"#d8576b\"],[0.6666666666666666,\"#ed7953\"],[0.7777777777777778,\"#fb9f3a\"],[0.8888888888888888,\"#fdca26\"],[1.0,\"#f0f921\"]],\"type\":\"heatmapgl\"}],\"histogram\":[{\"marker\":{\"pattern\":{\"fillmode\":\"overlay\",\"size\":10,\"solidity\":0.2}},\"type\":\"histogram\"}],\"histogram2d\":[{\"colorbar\":{\"outlinewidth\":0,\"ticks\":\"\"},\"colorscale\":[[0.0,\"#0d0887\"],[0.1111111111111111,\"#46039f\"],[0.2222222222222222,\"#7201a8\"],[0.3333333333333333,\"#9c179e\"],[0.4444444444444444,\"#bd3786\"],[0.5555555555555556,\"#d8576b\"],[0.6666666666666666,\"#ed7953\"],[0.7777777777777778,\"#fb9f3a\"],[0.8888888888888888,\"#fdca26\"],[1.0,\"#f0f921\"]],\"type\":\"histogram2d\"}],\"histogram2dcontour\":[{\"colorbar\":{\"outlinewidth\":0,\"ticks\":\"\"},\"colorscale\":[[0.0,\"#0d0887\"],[0.1111111111111111,\"#46039f\"],[0.2222222222222222,\"#7201a8\"],[0.3333333333333333,\"#9c179e\"],[0.4444444444444444,\"#bd3786\"],[0.5555555555555556,\"#d8576b\"],[0.6666666666666666,\"#ed7953\"],[0.7777777777777778,\"#fb9f3a\"],[0.8888888888888888,\"#fdca26\"],[1.0,\"#f0f921\"]],\"type\":\"histogram2dcontour\"}],\"mesh3d\":[{\"colorbar\":{\"outlinewidth\":0,\"ticks\":\"\"},\"type\":\"mesh3d\"}],\"parcoords\":[{\"line\":{\"colorbar\":{\"outlinewidth\":0,\"ticks\":\"\"}},\"type\":\"parcoords\"}],\"pie\":[{\"automargin\":true,\"type\":\"pie\"}],\"scatter\":[{\"marker\":{\"colorbar\":{\"outlinewidth\":0,\"ticks\":\"\"}},\"type\":\"scatter\"}],\"scatter3d\":[{\"line\":{\"colorbar\":{\"outlinewidth\":0,\"ticks\":\"\"}},\"marker\":{\"colorbar\":{\"outlinewidth\":0,\"ticks\":\"\"}},\"type\":\"scatter3d\"}],\"scattercarpet\":[{\"marker\":{\"colorbar\":{\"outlinewidth\":0,\"ticks\":\"\"}},\"type\":\"scattercarpet\"}],\"scattergeo\":[{\"marker\":{\"colorbar\":{\"outlinewidth\":0,\"ticks\":\"\"}},\"type\":\"scattergeo\"}],\"scattergl\":[{\"marker\":{\"colorbar\":{\"outlinewidth\":0,\"ticks\":\"\"}},\"type\":\"scattergl\"}],\"scattermapbox\":[{\"marker\":{\"colorbar\":{\"outlinewidth\":0,\"ticks\":\"\"}},\"type\":\"scattermapbox\"}],\"scatterpolar\":[{\"marker\":{\"colorbar\":{\"outlinewidth\":0,\"ticks\":\"\"}},\"type\":\"scatterpolar\"}],\"scatterpolargl\":[{\"marker\":{\"colorbar\":{\"outlinewidth\":0,\"ticks\":\"\"}},\"type\":\"scatterpolargl\"}],\"scatterternary\":[{\"marker\":{\"colorbar\":{\"outlinewidth\":0,\"ticks\":\"\"}},\"type\":\"scatterternary\"}],\"surface\":[{\"colorbar\":{\"outlinewidth\":0,\"ticks\":\"\"},\"colorscale\":[[0.0,\"#0d0887\"],[0.1111111111111111,\"#46039f\"],[0.2222222222222222,\"#7201a8\"],[0.3333333333333333,\"#9c179e\"],[0.4444444444444444,\"#bd3786\"],[0.5555555555555556,\"#d8576b\"],[0.6666666666666666,\"#ed7953\"],[0.7777777777777778,\"#fb9f3a\"],[0.8888888888888888,\"#fdca26\"],[1.0,\"#f0f921\"]],\"type\":\"surface\"}],\"table\":[{\"cells\":{\"fill\":{\"color\":\"#EBF0F8\"},\"line\":{\"color\":\"white\"}},\"header\":{\"fill\":{\"color\":\"#C8D4E3\"},\"line\":{\"color\":\"white\"}},\"type\":\"table\"}]},\"layout\":{\"annotationdefaults\":{\"arrowcolor\":\"#2a3f5f\",\"arrowhead\":0,\"arrowwidth\":1},\"autotypenumbers\":\"strict\",\"coloraxis\":{\"colorbar\":{\"outlinewidth\":0,\"ticks\":\"\"}},\"colorscale\":{\"diverging\":[[0,\"#8e0152\"],[0.1,\"#c51b7d\"],[0.2,\"#de77ae\"],[0.3,\"#f1b6da\"],[0.4,\"#fde0ef\"],[0.5,\"#f7f7f7\"],[0.6,\"#e6f5d0\"],[0.7,\"#b8e186\"],[0.8,\"#7fbc41\"],[0.9,\"#4d9221\"],[1,\"#276419\"]],\"sequential\":[[0.0,\"#0d0887\"],[0.1111111111111111,\"#46039f\"],[0.2222222222222222,\"#7201a8\"],[0.3333333333333333,\"#9c179e\"],[0.4444444444444444,\"#bd3786\"],[0.5555555555555556,\"#d8576b\"],[0.6666666666666666,\"#ed7953\"],[0.7777777777777778,\"#fb9f3a\"],[0.8888888888888888,\"#fdca26\"],[1.0,\"#f0f921\"]],\"sequentialminus\":[[0.0,\"#0d0887\"],[0.1111111111111111,\"#46039f\"],[0.2222222222222222,\"#7201a8\"],[0.3333333333333333,\"#9c179e\"],[0.4444444444444444,\"#bd3786\"],[0.5555555555555556,\"#d8576b\"],[0.6666666666666666,\"#ed7953\"],[0.7777777777777778,\"#fb9f3a\"],[0.8888888888888888,\"#fdca26\"],[1.0,\"#f0f921\"]]},\"colorway\":[\"#636efa\",\"#EF553B\",\"#00cc96\",\"#ab63fa\",\"#FFA15A\",\"#19d3f3\",\"#FF6692\",\"#B6E880\",\"#FF97FF\",\"#FECB52\"],\"font\":{\"color\":\"#2a3f5f\"},\"geo\":{\"bgcolor\":\"white\",\"lakecolor\":\"white\",\"landcolor\":\"#E5ECF6\",\"showlakes\":true,\"showland\":true,\"subunitcolor\":\"white\"},\"hoverlabel\":{\"align\":\"left\"},\"hovermode\":\"closest\",\"mapbox\":{\"style\":\"light\"},\"paper_bgcolor\":\"white\",\"plot_bgcolor\":\"#E5ECF6\",\"polar\":{\"angularaxis\":{\"gridcolor\":\"white\",\"linecolor\":\"white\",\"ticks\":\"\"},\"bgcolor\":\"#E5ECF6\",\"radialaxis\":{\"gridcolor\":\"white\",\"linecolor\":\"white\",\"ticks\":\"\"}},\"scene\":{\"xaxis\":{\"backgroundcolor\":\"#E5ECF6\",\"gridcolor\":\"white\",\"gridwidth\":2,\"linecolor\":\"white\",\"showbackground\":true,\"ticks\":\"\",\"zerolinecolor\":\"white\"},\"yaxis\":{\"backgroundcolor\":\"#E5ECF6\",\"gridcolor\":\"white\",\"gridwidth\":2,\"linecolor\":\"white\",\"showbackground\":true,\"ticks\":\"\",\"zerolinecolor\":\"white\"},\"zaxis\":{\"backgroundcolor\":\"#E5ECF6\",\"gridcolor\":\"white\",\"gridwidth\":2,\"linecolor\":\"white\",\"showbackground\":true,\"ticks\":\"\",\"zerolinecolor\":\"white\"}},\"shapedefaults\":{\"line\":{\"color\":\"#2a3f5f\"}},\"ternary\":{\"aaxis\":{\"gridcolor\":\"white\",\"linecolor\":\"white\",\"ticks\":\"\"},\"baxis\":{\"gridcolor\":\"white\",\"linecolor\":\"white\",\"ticks\":\"\"},\"bgcolor\":\"#E5ECF6\",\"caxis\":{\"gridcolor\":\"white\",\"linecolor\":\"white\",\"ticks\":\"\"}},\"title\":{\"x\":0.05},\"xaxis\":{\"automargin\":true,\"gridcolor\":\"white\",\"linecolor\":\"white\",\"ticks\":\"\",\"title\":{\"standoff\":15},\"zerolinecolor\":\"white\",\"zerolinewidth\":2},\"yaxis\":{\"automargin\":true,\"gridcolor\":\"white\",\"linecolor\":\"white\",\"ticks\":\"\",\"title\":{\"standoff\":15},\"zerolinecolor\":\"white\",\"zerolinewidth\":2}}},\"xaxis\":{\"anchor\":\"y\",\"domain\":[0.0,1.0],\"title\":{\"text\":\"std%\"}},\"yaxis\":{\"anchor\":\"x\",\"domain\":[0.0,1.0],\"title\":{\"text\":\"mean%\"}},\"legend\":{\"title\":{\"text\":\"name\"},\"tracegroupgap\":0,\"itemsizing\":\"constant\"},\"title\":{\"text\":\"Risk Return Landscape\"}},                        {\"responsive\": true}                    ).then(function(){\n",
              "                            \n",
              "var gd = document.getElementById('0b31c5d9-39b0-4ad9-acbc-c60fe30c1ed0');\n",
              "var x = new MutationObserver(function (mutations, observer) {{\n",
              "        var display = window.getComputedStyle(gd).display;\n",
              "        if (!display || display === 'none') {{\n",
              "            console.log([gd, 'removed!']);\n",
              "            Plotly.purge(gd);\n",
              "            observer.disconnect();\n",
              "        }}\n",
              "}});\n",
              "\n",
              "// Listen for the removal of the full notebook cells\n",
              "var notebookContainer = gd.closest('#notebook-container');\n",
              "if (notebookContainer) {{\n",
              "    x.observe(notebookContainer, {childList: true});\n",
              "}}\n",
              "\n",
              "// Listen for the clearing of the current output cell\n",
              "var outputEl = gd.closest('.output');\n",
              "if (outputEl) {{\n",
              "    x.observe(outputEl, {childList: true});\n",
              "}}\n",
              "\n",
              "                        })                };                            </script>        </div>\n",
              "</body>\n",
              "</html>"
            ]
          },
          "metadata": {}
        }
      ]
    }
  ]
}