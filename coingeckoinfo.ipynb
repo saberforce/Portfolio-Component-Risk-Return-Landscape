{
  "nbformat": 4,
  "nbformat_minor": 0,
  "metadata": {
    "colab": {
      "name": "coingeckoinfo.ipynb",
      "provenance": [],
      "collapsed_sections": [],
      "authorship_tag": "ABX9TyPfDqAgAgp/naNEirtbwt0l",
      "include_colab_link": true
    },
    "kernelspec": {
      "name": "python3",
      "display_name": "Python 3"
    },
    "language_info": {
      "name": "python"
    }
  },
  "cells": [
    {
      "cell_type": "markdown",
      "metadata": {
        "id": "view-in-github",
        "colab_type": "text"
      },
      "source": [
        "<a href=\"https://colab.research.google.com/github/saberforce/Portfolio-Component-Risk-Return-Landscape/blob/main/coingeckoinfo.ipynb\" target=\"_parent\"><img src=\"https://colab.research.google.com/assets/colab-badge.svg\" alt=\"Open In Colab\"/></a>"
      ]
    },
    {
      "cell_type": "code",
      "execution_count": null,
      "metadata": {
        "id": "Twbx46hTD1-5"
      },
      "outputs": [],
      "source": [
        "pip install pycoingecko\n"
      ]
    },
    {
      "cell_type": "code",
      "source": [
        "import pandas as pd\n",
        "import requests"
      ],
      "metadata": {
        "id": "wfK8FJCkRw_N"
      },
      "execution_count": 87,
      "outputs": []
    },
    {
      "cell_type": "code",
      "source": [
        "from pycoingecko import CoinGeckoAPI\n",
        "cg = CoinGeckoAPI()\n"
      ],
      "metadata": {
        "id": "-LtZGNa9LGPm"
      },
      "execution_count": 86,
      "outputs": []
    },
    {
      "cell_type": "code",
      "source": [
        "list_coin={}\n",
        "wholelist=['bitcoin', 'ethereum', 'wmatic','chainlink', 'uniswap','the-sandbox','decentraland','the-graph','aave', 'wrapped-usdc']\n",
        "\n",
        "# Allocated % Inside The Portfolio In Ordered Sequence\n",
        "wholelistportion=[0.2,0.2,0.1,0.1,0.05,0.05,0.05,0.05,0.05,0.15]\n",
        "\n",
        "# For Each Coin Get A List Of Prices Over The Last 365 Days\n",
        "for coin in wholelist:\n",
        "  gg=cg.get_coin_market_chart_by_id(id=coin,vs_currency='usd',days='364')\n",
        "  listOfPrices=[]\n",
        "  num_prices=range(len(gg['prices']))\n",
        "  for k in num_prices:\n",
        "\n",
        "    coinprice=(gg['prices'][k][1])\n",
        "    listOfPrices.append(coinprice)\n",
        "\n",
        "\n",
        " #Prep data - deficient data count for some coins\n",
        "  list_coin[f'{coin}']=pd.Series(listOfPrices)\n",
        "\n",
        "# Getting A List of Returns Derived From Daily Prices For Each Coin, The Expected \n",
        "# Mean Of Return For Each Coin, The Standard Deviation For Each Coin\n",
        "# Deriving The Portfolio Mean And Portfolio Standard Deviation\n",
        "\n",
        "df_gg=pd.DataFrame()\n",
        "n=0\n",
        "portfoliomean=0\n",
        "portfoliostd=0\n",
        "\n",
        "returnlist = [x+\"_returns\" for x in wholelist]\n",
        "meanlist=[]\n",
        "stdlist=[]\n",
        "\n",
        "\n",
        "for k,v in list_coin.items():\n",
        "  df_gg[f'{k}']=v\n",
        "  df_gg[returnlist[n]]=df_gg[f'{k}'].pct_change(1)\n",
        "  \n",
        "  g=df_gg[returnlist[n]].mean()*100\n",
        "  h=df_gg[returnlist[n]].std()*100\n",
        "\n",
        "  portfoliomean=portfoliomean+(wholelistportion[n]*g)\n",
        "\n",
        "  portfoliostd=portfoliostd+(wholelistportion[n]*h)\n",
        "\n",
        "  meanlist.append(g)\n",
        "  stdlist.append(h)\n",
        "  n=n+1\n",
        "\n",
        "wholelist.append('portfolio')\n",
        "meanlist.append(portfoliomean)\n",
        "stdlist.append(portfoliostd)\n",
        "\n",
        "# Finalizing The Finished Dataframe Tabulation For 9 Coins And 1 Portfolio Item\n",
        "\n",
        "listOfFinals = list(zip(wholelist, meanlist, stdlist))\n",
        "\n",
        "df_final = pd.DataFrame(listOfFinals, columns = ['name', 'mean','std'])\n",
        "df_final\n",
        "\n",
        "\n",
        "\n"
      ],
      "metadata": {
        "id": "OXMOeiYKpsOV"
      },
      "execution_count": null,
      "outputs": []
    },
    {
      "cell_type": "code",
      "source": [
        "import plotly.express as px\n",
        "\n"
      ],
      "metadata": {
        "id": "VOvBhFAxSLrm"
      },
      "execution_count": 126,
      "outputs": []
    },
    {
      "cell_type": "code",
      "source": [
        "fig = px.scatter(df_final, x='std', y='mean', range_y=[-0.5,3],\n",
        "                 hover_name='name', \n",
        "                 color='name', \n",
        "                 size=\"mean\",\n",
        "                 text=\"name\",\n",
        "                 title=\"Risk Return Landscape\",\n",
        "\n",
        "\n",
        "\n",
        "                 )\n",
        "\n",
        "\n",
        "fig.show()"
      ],
      "metadata": {
        "colab": {
          "base_uri": "https://localhost:8080/",
          "height": 542
        },
        "id": "BPPCZYDESPxh",
        "outputId": "de2cc48f-4dae-4e52-9d28-0d1e55e75e19"
      },
      "execution_count": 157,
      "outputs": [
        {
          "output_type": "display_data",
          "data": {
            "text/html": [
              "<html>\n",
              "<head><meta charset=\"utf-8\" /></head>\n",
              "<body>\n",
              "    <div>\n",
              "            <script src=\"https://cdnjs.cloudflare.com/ajax/libs/mathjax/2.7.5/MathJax.js?config=TeX-AMS-MML_SVG\"></script><script type=\"text/javascript\">if (window.MathJax) {MathJax.Hub.Config({SVG: {font: \"STIX-Web\"}});}</script>\n",
              "                <script type=\"text/javascript\">window.PlotlyConfig = {MathJaxConfig: 'local'};</script>\n",
              "        <script src=\"https://cdn.plot.ly/plotly-latest.min.js\"></script>    \n",
              "            <div id=\"bf3dfae6-79d2-4fcb-ab69-921ef24093fc\" class=\"plotly-graph-div\" style=\"height:525px; width:100%;\"></div>\n",
              "            <script type=\"text/javascript\">\n",
              "                \n",
              "                    window.PLOTLYENV=window.PLOTLYENV || {};\n",
              "                    \n",
              "                if (document.getElementById(\"bf3dfae6-79d2-4fcb-ab69-921ef24093fc\")) {\n",
              "                    Plotly.newPlot(\n",
              "                        'bf3dfae6-79d2-4fcb-ab69-921ef24093fc',\n",
              "                        [{\"hoverlabel\": {\"namelength\": 0}, \"hovertemplate\": \"<b>%{hovertext}</b><br><br>name=%{text}<br>std=%{x}<br>mean=%{marker.size}\", \"hovertext\": [\"bitcoin\"], \"legendgroup\": \"name=bitcoin\", \"marker\": {\"color\": \"#636efa\", \"size\": [0.13016808842279012], \"sizemode\": \"area\", \"sizeref\": 0.00491766491901891, \"symbol\": \"circle\"}, \"mode\": \"markers+text\", \"name\": \"name=bitcoin\", \"showlegend\": true, \"text\": [\"bitcoin\"], \"type\": \"scatter\", \"x\": [4.101843164370714], \"xaxis\": \"x\", \"y\": [0.13016808842279012], \"yaxis\": \"y\"}, {\"hoverlabel\": {\"namelength\": 0}, \"hovertemplate\": \"<b>%{hovertext}</b><br><br>name=%{text}<br>std=%{x}<br>mean=%{marker.size}\", \"hovertext\": [\"ethereum\"], \"legendgroup\": \"name=ethereum\", \"marker\": {\"color\": \"#EF553B\", \"size\": [0.4370470039106506], \"sizemode\": \"area\", \"sizeref\": 0.00491766491901891, \"symbol\": \"circle\"}, \"mode\": \"markers+text\", \"name\": \"name=ethereum\", \"showlegend\": true, \"text\": [\"ethereum\"], \"type\": \"scatter\", \"x\": [5.330437061166343], \"xaxis\": \"x\", \"y\": [0.4370470039106506], \"yaxis\": \"y\"}, {\"hoverlabel\": {\"namelength\": 0}, \"hovertemplate\": \"<b>%{hovertext}</b><br><br>name=%{text}<br>std=%{x}<br>mean=%{marker.size}\", \"hovertext\": [\"wmatic\"], \"legendgroup\": \"name=wmatic\", \"marker\": {\"color\": \"#00cc96\", \"size\": [1.086926303953837], \"sizemode\": \"area\", \"sizeref\": 0.00491766491901891, \"symbol\": \"circle\"}, \"mode\": \"markers+text\", \"name\": \"name=wmatic\", \"showlegend\": true, \"text\": [\"wmatic\"], \"type\": \"scatter\", \"x\": [8.851485412394613], \"xaxis\": \"x\", \"y\": [1.086926303953837], \"yaxis\": \"y\"}, {\"hoverlabel\": {\"namelength\": 0}, \"hovertemplate\": \"<b>%{hovertext}</b><br><br>name=%{text}<br>std=%{x}<br>mean=%{marker.size}\", \"hovertext\": [\"chainlink\"], \"legendgroup\": \"name=chainlink\", \"marker\": {\"color\": \"#ab63fa\", \"size\": [0.43362217014337723], \"sizemode\": \"area\", \"sizeref\": 0.00491766491901891, \"symbol\": \"circle\"}, \"mode\": \"markers+text\", \"name\": \"name=chainlink\", \"showlegend\": true, \"text\": [\"chainlink\"], \"type\": \"scatter\", \"x\": [7.039050388408126], \"xaxis\": \"x\", \"y\": [0.43362217014337723], \"yaxis\": \"y\"}, {\"hoverlabel\": {\"namelength\": 0}, \"hovertemplate\": \"<b>%{hovertext}</b><br><br>name=%{text}<br>std=%{x}<br>mean=%{marker.size}\", \"hovertext\": [\"uniswap\"], \"legendgroup\": \"name=uniswap\", \"marker\": {\"color\": \"#FFA15A\", \"size\": [0.5865516673363022], \"sizemode\": \"area\", \"sizeref\": 0.00491766491901891, \"symbol\": \"circle\"}, \"mode\": \"markers+text\", \"name\": \"name=uniswap\", \"showlegend\": true, \"text\": [\"uniswap\"], \"type\": \"scatter\", \"x\": [7.63149001551436], \"xaxis\": \"x\", \"y\": [0.5865516673363022], \"yaxis\": \"y\"}, {\"hoverlabel\": {\"namelength\": 0}, \"hovertemplate\": \"<b>%{hovertext}</b><br><br>name=%{text}<br>std=%{x}<br>mean=%{marker.size}\", \"hovertext\": [\"the-sandbox\"], \"legendgroup\": \"name=the-sandbox\", \"marker\": {\"color\": \"#19d3f3\", \"size\": [1.967065967607564], \"sizemode\": \"area\", \"sizeref\": 0.00491766491901891, \"symbol\": \"circle\"}, \"mode\": \"markers+text\", \"name\": \"name=the-sandbox\", \"showlegend\": true, \"text\": [\"the-sandbox\"], \"type\": \"scatter\", \"x\": [12.286090094828138], \"xaxis\": \"x\", \"y\": [1.967065967607564], \"yaxis\": \"y\"}, {\"hoverlabel\": {\"namelength\": 0}, \"hovertemplate\": \"<b>%{hovertext}</b><br><br>name=%{text}<br>std=%{x}<br>mean=%{marker.size}\", \"hovertext\": [\"decentraland\"], \"legendgroup\": \"name=decentraland\", \"marker\": {\"color\": \"#FF6692\", \"size\": [1.5034933514074649], \"sizemode\": \"area\", \"sizeref\": 0.00491766491901891, \"symbol\": \"circle\"}, \"mode\": \"markers+text\", \"name\": \"name=decentraland\", \"showlegend\": true, \"text\": [\"decentraland\"], \"type\": \"scatter\", \"x\": [12.056097785094732], \"xaxis\": \"x\", \"y\": [1.5034933514074649], \"yaxis\": \"y\"}, {\"hoverlabel\": {\"namelength\": 0}, \"hovertemplate\": \"<b>%{hovertext}</b><br><br>name=%{text}<br>std=%{x}<br>mean=%{marker.size}\", \"hovertext\": [\"the-graph\"], \"legendgroup\": \"name=the-graph\", \"marker\": {\"color\": \"#B6E880\", \"size\": [0.5518816683257782], \"sizemode\": \"area\", \"sizeref\": 0.00491766491901891, \"symbol\": \"circle\"}, \"mode\": \"markers+text\", \"name\": \"name=the-graph\", \"showlegend\": true, \"text\": [\"the-graph\"], \"type\": \"scatter\", \"x\": [8.65946182085536], \"xaxis\": \"x\", \"y\": [0.5518816683257782], \"yaxis\": \"y\"}, {\"hoverlabel\": {\"namelength\": 0}, \"hovertemplate\": \"<b>%{hovertext}</b><br><br>name=%{text}<br>std=%{x}<br>mean=%{marker.size}\", \"hovertext\": [\"aave\"], \"legendgroup\": \"name=aave\", \"marker\": {\"color\": \"#FF97FF\", \"size\": [0.4312005840152222], \"sizemode\": \"area\", \"sizeref\": 0.00491766491901891, \"symbol\": \"circle\"}, \"mode\": \"markers+text\", \"name\": \"name=aave\", \"showlegend\": true, \"text\": [\"aave\"], \"type\": \"scatter\", \"x\": [7.254949761331078], \"xaxis\": \"x\", \"y\": [0.4312005840152222], \"yaxis\": \"y\"}, {\"hoverlabel\": {\"namelength\": 0}, \"hovertemplate\": \"<b>%{hovertext}</b><br><br>name=%{text}<br>std=%{x}<br>mean=%{marker.size}\", \"hovertext\": [\"wrapped-usdc\"], \"legendgroup\": \"name=wrapped-usdc\", \"marker\": {\"color\": \"#FECB52\", \"size\": [0.024119401610661523], \"sizemode\": \"area\", \"sizeref\": 0.00491766491901891, \"symbol\": \"circle\"}, \"mode\": \"markers+text\", \"name\": \"name=wrapped-usdc\", \"showlegend\": true, \"text\": [\"wrapped-usdc\"], \"type\": \"scatter\", \"x\": [1.7851806768872325], \"xaxis\": \"x\", \"y\": [0.024119401610661523], \"yaxis\": \"y\"}, {\"hoverlabel\": {\"namelength\": 0}, \"hovertemplate\": \"<b>%{hovertext}</b><br><br>name=%{text}<br>std=%{x}<br>mean=%{marker.size}\", \"hovertext\": [\"portfolio\"], \"legendgroup\": \"name=portfolio\", \"marker\": {\"color\": \"#636efa\", \"size\": [0.5211254380526253], \"sizemode\": \"area\", \"sizeref\": 0.00491766491901891, \"symbol\": \"circle\"}, \"mode\": \"markers+text\", \"name\": \"name=portfolio\", \"showlegend\": true, \"text\": [\"portfolio\"], \"type\": \"scatter\", \"x\": [6.137691200601954], \"xaxis\": \"x\", \"y\": [0.5211254380526253], \"yaxis\": \"y\"}],\n",
              "                        {\"legend\": {\"itemsizing\": \"constant\", \"tracegroupgap\": 0}, \"template\": {\"data\": {\"bar\": [{\"error_x\": {\"color\": \"#2a3f5f\"}, \"error_y\": {\"color\": \"#2a3f5f\"}, \"marker\": {\"line\": {\"color\": \"#E5ECF6\", \"width\": 0.5}}, \"type\": \"bar\"}], \"barpolar\": [{\"marker\": {\"line\": {\"color\": \"#E5ECF6\", \"width\": 0.5}}, \"type\": \"barpolar\"}], \"carpet\": [{\"aaxis\": {\"endlinecolor\": \"#2a3f5f\", \"gridcolor\": \"white\", \"linecolor\": \"white\", \"minorgridcolor\": \"white\", \"startlinecolor\": \"#2a3f5f\"}, \"baxis\": {\"endlinecolor\": \"#2a3f5f\", \"gridcolor\": \"white\", \"linecolor\": \"white\", \"minorgridcolor\": \"white\", \"startlinecolor\": \"#2a3f5f\"}, \"type\": \"carpet\"}], \"choropleth\": [{\"colorbar\": {\"outlinewidth\": 0, \"ticks\": \"\"}, \"type\": \"choropleth\"}], \"contour\": [{\"colorbar\": {\"outlinewidth\": 0, \"ticks\": \"\"}, \"colorscale\": [[0.0, \"#0d0887\"], [0.1111111111111111, \"#46039f\"], [0.2222222222222222, \"#7201a8\"], [0.3333333333333333, \"#9c179e\"], [0.4444444444444444, \"#bd3786\"], [0.5555555555555556, \"#d8576b\"], [0.6666666666666666, \"#ed7953\"], [0.7777777777777778, \"#fb9f3a\"], [0.8888888888888888, \"#fdca26\"], [1.0, \"#f0f921\"]], \"type\": \"contour\"}], \"contourcarpet\": [{\"colorbar\": {\"outlinewidth\": 0, \"ticks\": \"\"}, \"type\": \"contourcarpet\"}], \"heatmap\": [{\"colorbar\": {\"outlinewidth\": 0, \"ticks\": \"\"}, \"colorscale\": [[0.0, \"#0d0887\"], [0.1111111111111111, \"#46039f\"], [0.2222222222222222, \"#7201a8\"], [0.3333333333333333, \"#9c179e\"], [0.4444444444444444, \"#bd3786\"], [0.5555555555555556, \"#d8576b\"], [0.6666666666666666, \"#ed7953\"], [0.7777777777777778, \"#fb9f3a\"], [0.8888888888888888, \"#fdca26\"], [1.0, \"#f0f921\"]], \"type\": \"heatmap\"}], \"heatmapgl\": [{\"colorbar\": {\"outlinewidth\": 0, \"ticks\": \"\"}, \"colorscale\": [[0.0, \"#0d0887\"], [0.1111111111111111, \"#46039f\"], [0.2222222222222222, \"#7201a8\"], [0.3333333333333333, \"#9c179e\"], [0.4444444444444444, \"#bd3786\"], [0.5555555555555556, \"#d8576b\"], [0.6666666666666666, \"#ed7953\"], [0.7777777777777778, \"#fb9f3a\"], [0.8888888888888888, \"#fdca26\"], [1.0, \"#f0f921\"]], \"type\": \"heatmapgl\"}], \"histogram\": [{\"marker\": {\"colorbar\": {\"outlinewidth\": 0, \"ticks\": \"\"}}, \"type\": \"histogram\"}], \"histogram2d\": [{\"colorbar\": {\"outlinewidth\": 0, \"ticks\": \"\"}, \"colorscale\": [[0.0, \"#0d0887\"], [0.1111111111111111, \"#46039f\"], [0.2222222222222222, \"#7201a8\"], [0.3333333333333333, \"#9c179e\"], [0.4444444444444444, \"#bd3786\"], [0.5555555555555556, \"#d8576b\"], [0.6666666666666666, \"#ed7953\"], [0.7777777777777778, \"#fb9f3a\"], [0.8888888888888888, \"#fdca26\"], [1.0, \"#f0f921\"]], \"type\": \"histogram2d\"}], \"histogram2dcontour\": [{\"colorbar\": {\"outlinewidth\": 0, \"ticks\": \"\"}, \"colorscale\": [[0.0, \"#0d0887\"], [0.1111111111111111, \"#46039f\"], [0.2222222222222222, \"#7201a8\"], [0.3333333333333333, \"#9c179e\"], [0.4444444444444444, \"#bd3786\"], [0.5555555555555556, \"#d8576b\"], [0.6666666666666666, \"#ed7953\"], [0.7777777777777778, \"#fb9f3a\"], [0.8888888888888888, \"#fdca26\"], [1.0, \"#f0f921\"]], \"type\": \"histogram2dcontour\"}], \"mesh3d\": [{\"colorbar\": {\"outlinewidth\": 0, \"ticks\": \"\"}, \"type\": \"mesh3d\"}], \"parcoords\": [{\"line\": {\"colorbar\": {\"outlinewidth\": 0, \"ticks\": \"\"}}, \"type\": \"parcoords\"}], \"pie\": [{\"automargin\": true, \"type\": \"pie\"}], \"scatter\": [{\"marker\": {\"colorbar\": {\"outlinewidth\": 0, \"ticks\": \"\"}}, \"type\": \"scatter\"}], \"scatter3d\": [{\"line\": {\"colorbar\": {\"outlinewidth\": 0, \"ticks\": \"\"}}, \"marker\": {\"colorbar\": {\"outlinewidth\": 0, \"ticks\": \"\"}}, \"type\": \"scatter3d\"}], \"scattercarpet\": [{\"marker\": {\"colorbar\": {\"outlinewidth\": 0, \"ticks\": \"\"}}, \"type\": \"scattercarpet\"}], \"scattergeo\": [{\"marker\": {\"colorbar\": {\"outlinewidth\": 0, \"ticks\": \"\"}}, \"type\": \"scattergeo\"}], \"scattergl\": [{\"marker\": {\"colorbar\": {\"outlinewidth\": 0, \"ticks\": \"\"}}, \"type\": \"scattergl\"}], \"scattermapbox\": [{\"marker\": {\"colorbar\": {\"outlinewidth\": 0, \"ticks\": \"\"}}, \"type\": \"scattermapbox\"}], \"scatterpolar\": [{\"marker\": {\"colorbar\": {\"outlinewidth\": 0, \"ticks\": \"\"}}, \"type\": \"scatterpolar\"}], \"scatterpolargl\": [{\"marker\": {\"colorbar\": {\"outlinewidth\": 0, \"ticks\": \"\"}}, \"type\": \"scatterpolargl\"}], \"scatterternary\": [{\"marker\": {\"colorbar\": {\"outlinewidth\": 0, \"ticks\": \"\"}}, \"type\": \"scatterternary\"}], \"surface\": [{\"colorbar\": {\"outlinewidth\": 0, \"ticks\": \"\"}, \"colorscale\": [[0.0, \"#0d0887\"], [0.1111111111111111, \"#46039f\"], [0.2222222222222222, \"#7201a8\"], [0.3333333333333333, \"#9c179e\"], [0.4444444444444444, \"#bd3786\"], [0.5555555555555556, \"#d8576b\"], [0.6666666666666666, \"#ed7953\"], [0.7777777777777778, \"#fb9f3a\"], [0.8888888888888888, \"#fdca26\"], [1.0, \"#f0f921\"]], \"type\": \"surface\"}], \"table\": [{\"cells\": {\"fill\": {\"color\": \"#EBF0F8\"}, \"line\": {\"color\": \"white\"}}, \"header\": {\"fill\": {\"color\": \"#C8D4E3\"}, \"line\": {\"color\": \"white\"}}, \"type\": \"table\"}]}, \"layout\": {\"annotationdefaults\": {\"arrowcolor\": \"#2a3f5f\", \"arrowhead\": 0, \"arrowwidth\": 1}, \"coloraxis\": {\"colorbar\": {\"outlinewidth\": 0, \"ticks\": \"\"}}, \"colorscale\": {\"diverging\": [[0, \"#8e0152\"], [0.1, \"#c51b7d\"], [0.2, \"#de77ae\"], [0.3, \"#f1b6da\"], [0.4, \"#fde0ef\"], [0.5, \"#f7f7f7\"], [0.6, \"#e6f5d0\"], [0.7, \"#b8e186\"], [0.8, \"#7fbc41\"], [0.9, \"#4d9221\"], [1, \"#276419\"]], \"sequential\": [[0.0, \"#0d0887\"], [0.1111111111111111, \"#46039f\"], [0.2222222222222222, \"#7201a8\"], [0.3333333333333333, \"#9c179e\"], [0.4444444444444444, \"#bd3786\"], [0.5555555555555556, \"#d8576b\"], [0.6666666666666666, \"#ed7953\"], [0.7777777777777778, \"#fb9f3a\"], [0.8888888888888888, \"#fdca26\"], [1.0, \"#f0f921\"]], \"sequentialminus\": [[0.0, \"#0d0887\"], [0.1111111111111111, \"#46039f\"], [0.2222222222222222, \"#7201a8\"], [0.3333333333333333, \"#9c179e\"], [0.4444444444444444, \"#bd3786\"], [0.5555555555555556, \"#d8576b\"], [0.6666666666666666, \"#ed7953\"], [0.7777777777777778, \"#fb9f3a\"], [0.8888888888888888, \"#fdca26\"], [1.0, \"#f0f921\"]]}, \"colorway\": [\"#636efa\", \"#EF553B\", \"#00cc96\", \"#ab63fa\", \"#FFA15A\", \"#19d3f3\", \"#FF6692\", \"#B6E880\", \"#FF97FF\", \"#FECB52\"], \"font\": {\"color\": \"#2a3f5f\"}, \"geo\": {\"bgcolor\": \"white\", \"lakecolor\": \"white\", \"landcolor\": \"#E5ECF6\", \"showlakes\": true, \"showland\": true, \"subunitcolor\": \"white\"}, \"hoverlabel\": {\"align\": \"left\"}, \"hovermode\": \"closest\", \"mapbox\": {\"style\": \"light\"}, \"paper_bgcolor\": \"white\", \"plot_bgcolor\": \"#E5ECF6\", \"polar\": {\"angularaxis\": {\"gridcolor\": \"white\", \"linecolor\": \"white\", \"ticks\": \"\"}, \"bgcolor\": \"#E5ECF6\", \"radialaxis\": {\"gridcolor\": \"white\", \"linecolor\": \"white\", \"ticks\": \"\"}}, \"scene\": {\"xaxis\": {\"backgroundcolor\": \"#E5ECF6\", \"gridcolor\": \"white\", \"gridwidth\": 2, \"linecolor\": \"white\", \"showbackground\": true, \"ticks\": \"\", \"zerolinecolor\": \"white\"}, \"yaxis\": {\"backgroundcolor\": \"#E5ECF6\", \"gridcolor\": \"white\", \"gridwidth\": 2, \"linecolor\": \"white\", \"showbackground\": true, \"ticks\": \"\", \"zerolinecolor\": \"white\"}, \"zaxis\": {\"backgroundcolor\": \"#E5ECF6\", \"gridcolor\": \"white\", \"gridwidth\": 2, \"linecolor\": \"white\", \"showbackground\": true, \"ticks\": \"\", \"zerolinecolor\": \"white\"}}, \"shapedefaults\": {\"line\": {\"color\": \"#2a3f5f\"}}, \"ternary\": {\"aaxis\": {\"gridcolor\": \"white\", \"linecolor\": \"white\", \"ticks\": \"\"}, \"baxis\": {\"gridcolor\": \"white\", \"linecolor\": \"white\", \"ticks\": \"\"}, \"bgcolor\": \"#E5ECF6\", \"caxis\": {\"gridcolor\": \"white\", \"linecolor\": \"white\", \"ticks\": \"\"}}, \"title\": {\"x\": 0.05}, \"xaxis\": {\"automargin\": true, \"gridcolor\": \"white\", \"linecolor\": \"white\", \"ticks\": \"\", \"title\": {\"standoff\": 15}, \"zerolinecolor\": \"white\", \"zerolinewidth\": 2}, \"yaxis\": {\"automargin\": true, \"gridcolor\": \"white\", \"linecolor\": \"white\", \"ticks\": \"\", \"title\": {\"standoff\": 15}, \"zerolinecolor\": \"white\", \"zerolinewidth\": 2}}}, \"title\": {\"text\": \"Risk Return Landscape\"}, \"xaxis\": {\"anchor\": \"y\", \"domain\": [0.0, 1.0], \"title\": {\"text\": \"std\"}}, \"yaxis\": {\"anchor\": \"x\", \"domain\": [0.0, 1.0], \"range\": [-0.5, 3], \"title\": {\"text\": \"mean\"}}},\n",
              "                        {\"responsive\": true}\n",
              "                    ).then(function(){\n",
              "                            \n",
              "var gd = document.getElementById('bf3dfae6-79d2-4fcb-ab69-921ef24093fc');\n",
              "var x = new MutationObserver(function (mutations, observer) {{\n",
              "        var display = window.getComputedStyle(gd).display;\n",
              "        if (!display || display === 'none') {{\n",
              "            console.log([gd, 'removed!']);\n",
              "            Plotly.purge(gd);\n",
              "            observer.disconnect();\n",
              "        }}\n",
              "}});\n",
              "\n",
              "// Listen for the removal of the full notebook cells\n",
              "var notebookContainer = gd.closest('#notebook-container');\n",
              "if (notebookContainer) {{\n",
              "    x.observe(notebookContainer, {childList: true});\n",
              "}}\n",
              "\n",
              "// Listen for the clearing of the current output cell\n",
              "var outputEl = gd.closest('.output');\n",
              "if (outputEl) {{\n",
              "    x.observe(outputEl, {childList: true});\n",
              "}}\n",
              "\n",
              "                        })\n",
              "                };\n",
              "                \n",
              "            </script>\n",
              "        </div>\n",
              "</body>\n",
              "</html>"
            ]
          },
          "metadata": {}
        }
      ]
    }
  ]
}