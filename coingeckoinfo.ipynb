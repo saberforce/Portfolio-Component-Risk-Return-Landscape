{
  "nbformat": 4,
  "nbformat_minor": 0,
  "metadata": {
    "colab": {
      "name": "coingeckoinfo.ipynb",
      "provenance": [],
      "collapsed_sections": [],
      "authorship_tag": "ABX9TyP77X//evIjPYhocWmd9qPs",
      "include_colab_link": true
    },
    "kernelspec": {
      "name": "python3",
      "display_name": "Python 3"
    },
    "language_info": {
      "name": "python"
    }
  },
  "cells": [
    {
      "cell_type": "markdown",
      "metadata": {
        "id": "view-in-github",
        "colab_type": "text"
      },
      "source": [
        "<a href=\"https://colab.research.google.com/github/saberforce/Portfolio-Component-Risk-Return-Landscape/blob/main/coingeckoinfo.ipynb\" target=\"_parent\"><img src=\"https://colab.research.google.com/assets/colab-badge.svg\" alt=\"Open In Colab\"/></a>"
      ]
    },
    {
      "cell_type": "markdown",
      "source": [
        ""
      ],
      "metadata": {
        "id": "jaPnUYENKdgr"
      }
    },
    {
      "cell_type": "code",
      "execution_count": 14,
      "metadata": {
        "id": "Twbx46hTD1-5",
        "colab": {
          "base_uri": "https://localhost:8080/"
        },
        "outputId": "ce47be35-9927-4bf9-f08a-a2d24e70e1db"
      },
      "outputs": [
        {
          "output_type": "stream",
          "name": "stdout",
          "text": [
            "Requirement already satisfied: pycoingecko in /usr/local/lib/python3.7/dist-packages (2.2.0)\n",
            "Requirement already satisfied: requests in /usr/local/lib/python3.7/dist-packages (from pycoingecko) (2.23.0)\n",
            "Requirement already satisfied: chardet<4,>=3.0.2 in /usr/local/lib/python3.7/dist-packages (from requests->pycoingecko) (3.0.4)\n",
            "Requirement already satisfied: certifi>=2017.4.17 in /usr/local/lib/python3.7/dist-packages (from requests->pycoingecko) (2021.10.8)\n",
            "Requirement already satisfied: idna<3,>=2.5 in /usr/local/lib/python3.7/dist-packages (from requests->pycoingecko) (2.10)\n",
            "Requirement already satisfied: urllib3!=1.25.0,!=1.25.1,<1.26,>=1.21.1 in /usr/local/lib/python3.7/dist-packages (from requests->pycoingecko) (1.24.3)\n"
          ]
        }
      ],
      "source": [
        "pip install pycoingecko\n"
      ]
    },
    {
      "cell_type": "code",
      "source": [
        "import pandas as pd\n",
        "import requests\n",
        "import plotly.express as px"
      ],
      "metadata": {
        "id": "wfK8FJCkRw_N"
      },
      "execution_count": 15,
      "outputs": []
    },
    {
      "cell_type": "code",
      "source": [
        "from pycoingecko import CoinGeckoAPI\n",
        "cg = CoinGeckoAPI()\n"
      ],
      "metadata": {
        "id": "-LtZGNa9LGPm"
      },
      "execution_count": 16,
      "outputs": []
    },
    {
      "cell_type": "code",
      "source": [
        "coindict={}\n",
        "portfoliolist=['bitcoin', 'ethereum', 'wmatic','chainlink', 'uniswap','the-sandbox',\n",
        "           'decentraland','the-graph','aave', 'wrapped-usdc']\n",
        "\n",
        "# Allocated % Inside The Portfolio In Ordered Sequence\n",
        "portfoliolistportion=[0.2,0.2,0.1,0.1,0.05,0.05,0.05,0.05,0.05,0.15]\n",
        "\n",
        "# For Each Coin Get A List Of Prices Over The Last 365 Days\n",
        "def get_asset_price(assetlist, assetdict):\n",
        "  for coin in assetlist:\n",
        "    asset_price=cg.get_coin_market_chart_by_id(id=coin,vs_currency='usd',days='364')\n",
        "    pricelist=[]\n",
        "    num_of_prices=len(asset_price['prices'])\n",
        "    for k in range(num_of_prices):\n",
        "\n",
        "      coinprice=(asset_price['prices'][k][1])\n",
        "      pricelist.append(coinprice)\n",
        "\n",
        "\n",
        " #Prep data - deficient data count for some coins\n",
        "    assetdict[f'{coin}']=pd.Series(pricelist)\n",
        "\n",
        "  return assetdict\n",
        "\n",
        "# Getting A List of Returns Derived From Daily Prices For Each Coin, \n",
        "# The Expected Mean Of Return And The Standard Deviation For Each Coin\n",
        "# Deriving The Portfolio Mean And Portfolio Standard Deviation\n",
        "\n",
        "def calculate_stats(assetdict, assetlist, assetlistportion, df1, list_of_mean, list_of_std):\n",
        "  n=0\n",
        "  portfolio_mean=0\n",
        "  portfolio_std=0\n",
        "\n",
        "  returnlist = [x+\"_returns\" for x in assetlist]\n",
        "\n",
        "  for k,v in assetdict.items():\n",
        "    df1[f'{k}']=v\n",
        "    df1[returnlist[n]]=df1[f'{k}'].pct_change(1)\n",
        "    \n",
        "    asset_mean=df1[returnlist[n]].mean()*100\n",
        "    asset_std=df1[returnlist[n]].std()*100\n",
        "\n",
        "    portfolio_mean=portfolio_mean+(assetlistportion[n]*asset_mean)\n",
        "\n",
        "    portfolio_std=portfolio_std+(assetlistportion[n]*asset_std)\n",
        "\n",
        "    list_of_mean.append(asset_mean)\n",
        "    list_of_std.append(asset_std)\n",
        "    n=n+1\n",
        "  return portfolio_mean, portfolio_std\n",
        "\n",
        "def plot_scatter(dfa,x,y):\n",
        "  fig = px.scatter(dfa, x, y,\n",
        "                 hover_name=\"name\", \n",
        "                 color= \"name\", \n",
        "                 size= abs(dfa['mean%']),\n",
        "                 size_max=50,\n",
        "                 text=\"name\",\n",
        "                 title=\"Risk Return Landscape\",\n",
        "\n",
        "\n",
        "\n",
        "                 )\n",
        "\n",
        "\n",
        "  fig.show()\n",
        "\n",
        "def main(coindict, portfoliolist, portfoliolistportion):\n",
        "\n",
        "  a=get_asset_price(portfoliolist, coindict)\n",
        "  df_asset_price=pd.DataFrame()\n",
        "  meanlist=[] #list is mutable by method\n",
        "  stdlist=[]\n",
        "\n",
        "  portfolio_mean, portfolio_std= calculate_stats(coindict, portfoliolist, \n",
        "                                                 portfoliolistportion, \n",
        "                                                 df_asset_price, meanlist,stdlist)\n",
        "  \n",
        "  portfoliolist.append('portfolio')\n",
        "  meanlist.append(portfolio_mean)\n",
        "  stdlist.append(portfolio_std)\n",
        "  \n",
        "  # Finalizing The Finished Dataframe Tabulation For 9 Coins And 1 Portfolio Item\n",
        "\n",
        "  listOfFinals = list(zip(portfoliolist, meanlist, stdlist))\n",
        "\n",
        "  df_final = pd.DataFrame(listOfFinals, columns = ['name', 'mean%','std%'])\n",
        "  print(df_final)\n",
        "\n",
        "  plot_scatter(df_final, x=\"std%\", y=\"mean%\")\n",
        "\n",
        "\n",
        "if __name__ == \"__main__\":\n",
        "  main(coindict, portfoliolist, portfoliolistportion)"
      ],
      "metadata": {
        "id": "OXMOeiYKpsOV",
        "colab": {
          "base_uri": "https://localhost:8080/",
          "height": 750
        },
        "outputId": "ea1d4cfe-e08b-4a50-c8d4-5ee7b9348d86"
      },
      "execution_count": 17,
      "outputs": [
        {
          "output_type": "stream",
          "name": "stdout",
          "text": [
            "            name     mean%       std%\n",
            "0        bitcoin  0.035634   3.849802\n",
            "1       ethereum  0.265129   5.125415\n",
            "2         wmatic  1.042996   9.060163\n",
            "3      chainlink  0.031148   6.762083\n",
            "4        uniswap  0.060963   7.129907\n",
            "5    the-sandbox  1.291977  10.674164\n",
            "6   decentraland  1.142192  11.786499\n",
            "7      the-graph -0.193731   7.174745\n",
            "8           aave -0.064082   6.723616\n",
            "9   wrapped-usdc  0.023334   2.162860\n",
            "10     portfolio  0.282933   5.876143\n"
          ]
        },
        {
          "output_type": "display_data",
          "data": {
            "text/html": [
              "<html>\n",
              "<head><meta charset=\"utf-8\" /></head>\n",
              "<body>\n",
              "    <div>            <script src=\"https://cdnjs.cloudflare.com/ajax/libs/mathjax/2.7.5/MathJax.js?config=TeX-AMS-MML_SVG\"></script><script type=\"text/javascript\">if (window.MathJax) {MathJax.Hub.Config({SVG: {font: \"STIX-Web\"}});}</script>                <script type=\"text/javascript\">window.PlotlyConfig = {MathJaxConfig: 'local'};</script>\n",
              "        <script src=\"https://cdn.plot.ly/plotly-2.8.3.min.js\"></script>                <div id=\"e93b90c4-778c-4082-a5be-3d6bbc2c3494\" class=\"plotly-graph-div\" style=\"height:525px; width:100%;\"></div>            <script type=\"text/javascript\">                                    window.PLOTLYENV=window.PLOTLYENV || {};                                    if (document.getElementById(\"e93b90c4-778c-4082-a5be-3d6bbc2c3494\")) {                    Plotly.newPlot(                        \"e93b90c4-778c-4082-a5be-3d6bbc2c3494\",                        [{\"hovertemplate\":\"<b>%{hovertext}</b><br><br>name=%{text}<br>std%=%{x}<br>mean%=%{y}<br>size=%{marker.size}<extra></extra>\",\"hovertext\":[\"bitcoin\"],\"legendgroup\":\"bitcoin\",\"marker\":{\"color\":\"#636efa\",\"size\":[0.03563379727188675],\"sizemode\":\"area\",\"sizeref\":0.0005167908119078772,\"symbol\":\"circle\"},\"mode\":\"markers+text\",\"name\":\"bitcoin\",\"orientation\":\"v\",\"showlegend\":true,\"text\":[\"bitcoin\"],\"x\":[3.8498015799748293],\"xaxis\":\"x\",\"y\":[0.03563379727188675],\"yaxis\":\"y\",\"type\":\"scatter\"},{\"hovertemplate\":\"<b>%{hovertext}</b><br><br>name=%{text}<br>std%=%{x}<br>mean%=%{y}<br>size=%{marker.size}<extra></extra>\",\"hovertext\":[\"ethereum\"],\"legendgroup\":\"ethereum\",\"marker\":{\"color\":\"#EF553B\",\"size\":[0.2651286702180393],\"sizemode\":\"area\",\"sizeref\":0.0005167908119078772,\"symbol\":\"circle\"},\"mode\":\"markers+text\",\"name\":\"ethereum\",\"orientation\":\"v\",\"showlegend\":true,\"text\":[\"ethereum\"],\"x\":[5.1254152755246745],\"xaxis\":\"x\",\"y\":[0.2651286702180393],\"yaxis\":\"y\",\"type\":\"scatter\"},{\"hovertemplate\":\"<b>%{hovertext}</b><br><br>name=%{text}<br>std%=%{x}<br>mean%=%{y}<br>size=%{marker.size}<extra></extra>\",\"hovertext\":[\"wmatic\"],\"legendgroup\":\"wmatic\",\"marker\":{\"color\":\"#00cc96\",\"size\":[1.042996271004262],\"sizemode\":\"area\",\"sizeref\":0.0005167908119078772,\"symbol\":\"circle\"},\"mode\":\"markers+text\",\"name\":\"wmatic\",\"orientation\":\"v\",\"showlegend\":true,\"text\":[\"wmatic\"],\"x\":[9.060162952799706],\"xaxis\":\"x\",\"y\":[1.042996271004262],\"yaxis\":\"y\",\"type\":\"scatter\"},{\"hovertemplate\":\"<b>%{hovertext}</b><br><br>name=%{text}<br>std%=%{x}<br>mean%=%{y}<br>size=%{marker.size}<extra></extra>\",\"hovertext\":[\"chainlink\"],\"legendgroup\":\"chainlink\",\"marker\":{\"color\":\"#ab63fa\",\"size\":[0.031148267699451327],\"sizemode\":\"area\",\"sizeref\":0.0005167908119078772,\"symbol\":\"circle\"},\"mode\":\"markers+text\",\"name\":\"chainlink\",\"orientation\":\"v\",\"showlegend\":true,\"text\":[\"chainlink\"],\"x\":[6.762082544350004],\"xaxis\":\"x\",\"y\":[0.031148267699451327],\"yaxis\":\"y\",\"type\":\"scatter\"},{\"hovertemplate\":\"<b>%{hovertext}</b><br><br>name=%{text}<br>std%=%{x}<br>mean%=%{y}<br>size=%{marker.size}<extra></extra>\",\"hovertext\":[\"uniswap\"],\"legendgroup\":\"uniswap\",\"marker\":{\"color\":\"#FFA15A\",\"size\":[0.06096273668712787],\"sizemode\":\"area\",\"sizeref\":0.0005167908119078772,\"symbol\":\"circle\"},\"mode\":\"markers+text\",\"name\":\"uniswap\",\"orientation\":\"v\",\"showlegend\":true,\"text\":[\"uniswap\"],\"x\":[7.129906900384489],\"xaxis\":\"x\",\"y\":[0.06096273668712787],\"yaxis\":\"y\",\"type\":\"scatter\"},{\"hovertemplate\":\"<b>%{hovertext}</b><br><br>name=%{text}<br>std%=%{x}<br>mean%=%{y}<br>size=%{marker.size}<extra></extra>\",\"hovertext\":[\"the-sandbox\"],\"legendgroup\":\"the-sandbox\",\"marker\":{\"color\":\"#19d3f3\",\"size\":[1.291977029769693],\"sizemode\":\"area\",\"sizeref\":0.0005167908119078772,\"symbol\":\"circle\"},\"mode\":\"markers+text\",\"name\":\"the-sandbox\",\"orientation\":\"v\",\"showlegend\":true,\"text\":[\"the-sandbox\"],\"x\":[10.67416433978146],\"xaxis\":\"x\",\"y\":[1.291977029769693],\"yaxis\":\"y\",\"type\":\"scatter\"},{\"hovertemplate\":\"<b>%{hovertext}</b><br><br>name=%{text}<br>std%=%{x}<br>mean%=%{y}<br>size=%{marker.size}<extra></extra>\",\"hovertext\":[\"decentraland\"],\"legendgroup\":\"decentraland\",\"marker\":{\"color\":\"#FF6692\",\"size\":[1.1421921297979345],\"sizemode\":\"area\",\"sizeref\":0.0005167908119078772,\"symbol\":\"circle\"},\"mode\":\"markers+text\",\"name\":\"decentraland\",\"orientation\":\"v\",\"showlegend\":true,\"text\":[\"decentraland\"],\"x\":[11.786498695542335],\"xaxis\":\"x\",\"y\":[1.1421921297979345],\"yaxis\":\"y\",\"type\":\"scatter\"},{\"hovertemplate\":\"<b>%{hovertext}</b><br><br>name=%{text}<br>std%=%{x}<br>mean%=%{y}<br>size=%{marker.size}<extra></extra>\",\"hovertext\":[\"the-graph\"],\"legendgroup\":\"the-graph\",\"marker\":{\"color\":\"#B6E880\",\"size\":[0.19373110389607476],\"sizemode\":\"area\",\"sizeref\":0.0005167908119078772,\"symbol\":\"circle\"},\"mode\":\"markers+text\",\"name\":\"the-graph\",\"orientation\":\"v\",\"showlegend\":true,\"text\":[\"the-graph\"],\"x\":[7.174744577062621],\"xaxis\":\"x\",\"y\":[-0.19373110389607476],\"yaxis\":\"y\",\"type\":\"scatter\"},{\"hovertemplate\":\"<b>%{hovertext}</b><br><br>name=%{text}<br>std%=%{x}<br>mean%=%{y}<br>size=%{marker.size}<extra></extra>\",\"hovertext\":[\"aave\"],\"legendgroup\":\"aave\",\"marker\":{\"color\":\"#FF97FF\",\"size\":[0.06408174886406111],\"sizemode\":\"area\",\"sizeref\":0.0005167908119078772,\"symbol\":\"circle\"},\"mode\":\"markers+text\",\"name\":\"aave\",\"orientation\":\"v\",\"showlegend\":true,\"text\":[\"aave\"],\"x\":[6.723615731733432],\"xaxis\":\"x\",\"y\":[-0.06408174886406111],\"yaxis\":\"y\",\"type\":\"scatter\"},{\"hovertemplate\":\"<b>%{hovertext}</b><br><br>name=%{text}<br>std%=%{x}<br>mean%=%{y}<br>size=%{marker.size}<extra></extra>\",\"hovertext\":[\"wrapped-usdc\"],\"legendgroup\":\"wrapped-usdc\",\"marker\":{\"color\":\"#FECB52\",\"size\":[0.023333731407423286],\"sizemode\":\"area\",\"sizeref\":0.0005167908119078772,\"symbol\":\"circle\"},\"mode\":\"markers+text\",\"name\":\"wrapped-usdc\",\"orientation\":\"v\",\"showlegend\":true,\"text\":[\"wrapped-usdc\"],\"x\":[2.1628595346432458],\"xaxis\":\"x\",\"y\":[0.023333731407423286],\"yaxis\":\"y\",\"type\":\"scatter\"},{\"hovertemplate\":\"<b>%{hovertext}</b><br><br>name=%{text}<br>std%=%{x}<br>mean%=%{y}<br>size=%{marker.size}<extra></extra>\",\"hovertext\":[\"portfolio\"],\"legendgroup\":\"portfolio\",\"marker\":{\"color\":\"#636efa\",\"size\":[0.28293295925420103],\"sizemode\":\"area\",\"sizeref\":0.0005167908119078772,\"symbol\":\"circle\"},\"mode\":\"markers+text\",\"name\":\"portfolio\",\"orientation\":\"v\",\"showlegend\":true,\"text\":[\"portfolio\"],\"x\":[5.876143363236576],\"xaxis\":\"x\",\"y\":[0.28293295925420103],\"yaxis\":\"y\",\"type\":\"scatter\"}],                        {\"template\":{\"data\":{\"bar\":[{\"error_x\":{\"color\":\"#2a3f5f\"},\"error_y\":{\"color\":\"#2a3f5f\"},\"marker\":{\"line\":{\"color\":\"#E5ECF6\",\"width\":0.5},\"pattern\":{\"fillmode\":\"overlay\",\"size\":10,\"solidity\":0.2}},\"type\":\"bar\"}],\"barpolar\":[{\"marker\":{\"line\":{\"color\":\"#E5ECF6\",\"width\":0.5},\"pattern\":{\"fillmode\":\"overlay\",\"size\":10,\"solidity\":0.2}},\"type\":\"barpolar\"}],\"carpet\":[{\"aaxis\":{\"endlinecolor\":\"#2a3f5f\",\"gridcolor\":\"white\",\"linecolor\":\"white\",\"minorgridcolor\":\"white\",\"startlinecolor\":\"#2a3f5f\"},\"baxis\":{\"endlinecolor\":\"#2a3f5f\",\"gridcolor\":\"white\",\"linecolor\":\"white\",\"minorgridcolor\":\"white\",\"startlinecolor\":\"#2a3f5f\"},\"type\":\"carpet\"}],\"choropleth\":[{\"colorbar\":{\"outlinewidth\":0,\"ticks\":\"\"},\"type\":\"choropleth\"}],\"contour\":[{\"colorbar\":{\"outlinewidth\":0,\"ticks\":\"\"},\"colorscale\":[[0.0,\"#0d0887\"],[0.1111111111111111,\"#46039f\"],[0.2222222222222222,\"#7201a8\"],[0.3333333333333333,\"#9c179e\"],[0.4444444444444444,\"#bd3786\"],[0.5555555555555556,\"#d8576b\"],[0.6666666666666666,\"#ed7953\"],[0.7777777777777778,\"#fb9f3a\"],[0.8888888888888888,\"#fdca26\"],[1.0,\"#f0f921\"]],\"type\":\"contour\"}],\"contourcarpet\":[{\"colorbar\":{\"outlinewidth\":0,\"ticks\":\"\"},\"type\":\"contourcarpet\"}],\"heatmap\":[{\"colorbar\":{\"outlinewidth\":0,\"ticks\":\"\"},\"colorscale\":[[0.0,\"#0d0887\"],[0.1111111111111111,\"#46039f\"],[0.2222222222222222,\"#7201a8\"],[0.3333333333333333,\"#9c179e\"],[0.4444444444444444,\"#bd3786\"],[0.5555555555555556,\"#d8576b\"],[0.6666666666666666,\"#ed7953\"],[0.7777777777777778,\"#fb9f3a\"],[0.8888888888888888,\"#fdca26\"],[1.0,\"#f0f921\"]],\"type\":\"heatmap\"}],\"heatmapgl\":[{\"colorbar\":{\"outlinewidth\":0,\"ticks\":\"\"},\"colorscale\":[[0.0,\"#0d0887\"],[0.1111111111111111,\"#46039f\"],[0.2222222222222222,\"#7201a8\"],[0.3333333333333333,\"#9c179e\"],[0.4444444444444444,\"#bd3786\"],[0.5555555555555556,\"#d8576b\"],[0.6666666666666666,\"#ed7953\"],[0.7777777777777778,\"#fb9f3a\"],[0.8888888888888888,\"#fdca26\"],[1.0,\"#f0f921\"]],\"type\":\"heatmapgl\"}],\"histogram\":[{\"marker\":{\"pattern\":{\"fillmode\":\"overlay\",\"size\":10,\"solidity\":0.2}},\"type\":\"histogram\"}],\"histogram2d\":[{\"colorbar\":{\"outlinewidth\":0,\"ticks\":\"\"},\"colorscale\":[[0.0,\"#0d0887\"],[0.1111111111111111,\"#46039f\"],[0.2222222222222222,\"#7201a8\"],[0.3333333333333333,\"#9c179e\"],[0.4444444444444444,\"#bd3786\"],[0.5555555555555556,\"#d8576b\"],[0.6666666666666666,\"#ed7953\"],[0.7777777777777778,\"#fb9f3a\"],[0.8888888888888888,\"#fdca26\"],[1.0,\"#f0f921\"]],\"type\":\"histogram2d\"}],\"histogram2dcontour\":[{\"colorbar\":{\"outlinewidth\":0,\"ticks\":\"\"},\"colorscale\":[[0.0,\"#0d0887\"],[0.1111111111111111,\"#46039f\"],[0.2222222222222222,\"#7201a8\"],[0.3333333333333333,\"#9c179e\"],[0.4444444444444444,\"#bd3786\"],[0.5555555555555556,\"#d8576b\"],[0.6666666666666666,\"#ed7953\"],[0.7777777777777778,\"#fb9f3a\"],[0.8888888888888888,\"#fdca26\"],[1.0,\"#f0f921\"]],\"type\":\"histogram2dcontour\"}],\"mesh3d\":[{\"colorbar\":{\"outlinewidth\":0,\"ticks\":\"\"},\"type\":\"mesh3d\"}],\"parcoords\":[{\"line\":{\"colorbar\":{\"outlinewidth\":0,\"ticks\":\"\"}},\"type\":\"parcoords\"}],\"pie\":[{\"automargin\":true,\"type\":\"pie\"}],\"scatter\":[{\"marker\":{\"colorbar\":{\"outlinewidth\":0,\"ticks\":\"\"}},\"type\":\"scatter\"}],\"scatter3d\":[{\"line\":{\"colorbar\":{\"outlinewidth\":0,\"ticks\":\"\"}},\"marker\":{\"colorbar\":{\"outlinewidth\":0,\"ticks\":\"\"}},\"type\":\"scatter3d\"}],\"scattercarpet\":[{\"marker\":{\"colorbar\":{\"outlinewidth\":0,\"ticks\":\"\"}},\"type\":\"scattercarpet\"}],\"scattergeo\":[{\"marker\":{\"colorbar\":{\"outlinewidth\":0,\"ticks\":\"\"}},\"type\":\"scattergeo\"}],\"scattergl\":[{\"marker\":{\"colorbar\":{\"outlinewidth\":0,\"ticks\":\"\"}},\"type\":\"scattergl\"}],\"scattermapbox\":[{\"marker\":{\"colorbar\":{\"outlinewidth\":0,\"ticks\":\"\"}},\"type\":\"scattermapbox\"}],\"scatterpolar\":[{\"marker\":{\"colorbar\":{\"outlinewidth\":0,\"ticks\":\"\"}},\"type\":\"scatterpolar\"}],\"scatterpolargl\":[{\"marker\":{\"colorbar\":{\"outlinewidth\":0,\"ticks\":\"\"}},\"type\":\"scatterpolargl\"}],\"scatterternary\":[{\"marker\":{\"colorbar\":{\"outlinewidth\":0,\"ticks\":\"\"}},\"type\":\"scatterternary\"}],\"surface\":[{\"colorbar\":{\"outlinewidth\":0,\"ticks\":\"\"},\"colorscale\":[[0.0,\"#0d0887\"],[0.1111111111111111,\"#46039f\"],[0.2222222222222222,\"#7201a8\"],[0.3333333333333333,\"#9c179e\"],[0.4444444444444444,\"#bd3786\"],[0.5555555555555556,\"#d8576b\"],[0.6666666666666666,\"#ed7953\"],[0.7777777777777778,\"#fb9f3a\"],[0.8888888888888888,\"#fdca26\"],[1.0,\"#f0f921\"]],\"type\":\"surface\"}],\"table\":[{\"cells\":{\"fill\":{\"color\":\"#EBF0F8\"},\"line\":{\"color\":\"white\"}},\"header\":{\"fill\":{\"color\":\"#C8D4E3\"},\"line\":{\"color\":\"white\"}},\"type\":\"table\"}]},\"layout\":{\"annotationdefaults\":{\"arrowcolor\":\"#2a3f5f\",\"arrowhead\":0,\"arrowwidth\":1},\"autotypenumbers\":\"strict\",\"coloraxis\":{\"colorbar\":{\"outlinewidth\":0,\"ticks\":\"\"}},\"colorscale\":{\"diverging\":[[0,\"#8e0152\"],[0.1,\"#c51b7d\"],[0.2,\"#de77ae\"],[0.3,\"#f1b6da\"],[0.4,\"#fde0ef\"],[0.5,\"#f7f7f7\"],[0.6,\"#e6f5d0\"],[0.7,\"#b8e186\"],[0.8,\"#7fbc41\"],[0.9,\"#4d9221\"],[1,\"#276419\"]],\"sequential\":[[0.0,\"#0d0887\"],[0.1111111111111111,\"#46039f\"],[0.2222222222222222,\"#7201a8\"],[0.3333333333333333,\"#9c179e\"],[0.4444444444444444,\"#bd3786\"],[0.5555555555555556,\"#d8576b\"],[0.6666666666666666,\"#ed7953\"],[0.7777777777777778,\"#fb9f3a\"],[0.8888888888888888,\"#fdca26\"],[1.0,\"#f0f921\"]],\"sequentialminus\":[[0.0,\"#0d0887\"],[0.1111111111111111,\"#46039f\"],[0.2222222222222222,\"#7201a8\"],[0.3333333333333333,\"#9c179e\"],[0.4444444444444444,\"#bd3786\"],[0.5555555555555556,\"#d8576b\"],[0.6666666666666666,\"#ed7953\"],[0.7777777777777778,\"#fb9f3a\"],[0.8888888888888888,\"#fdca26\"],[1.0,\"#f0f921\"]]},\"colorway\":[\"#636efa\",\"#EF553B\",\"#00cc96\",\"#ab63fa\",\"#FFA15A\",\"#19d3f3\",\"#FF6692\",\"#B6E880\",\"#FF97FF\",\"#FECB52\"],\"font\":{\"color\":\"#2a3f5f\"},\"geo\":{\"bgcolor\":\"white\",\"lakecolor\":\"white\",\"landcolor\":\"#E5ECF6\",\"showlakes\":true,\"showland\":true,\"subunitcolor\":\"white\"},\"hoverlabel\":{\"align\":\"left\"},\"hovermode\":\"closest\",\"mapbox\":{\"style\":\"light\"},\"paper_bgcolor\":\"white\",\"plot_bgcolor\":\"#E5ECF6\",\"polar\":{\"angularaxis\":{\"gridcolor\":\"white\",\"linecolor\":\"white\",\"ticks\":\"\"},\"bgcolor\":\"#E5ECF6\",\"radialaxis\":{\"gridcolor\":\"white\",\"linecolor\":\"white\",\"ticks\":\"\"}},\"scene\":{\"xaxis\":{\"backgroundcolor\":\"#E5ECF6\",\"gridcolor\":\"white\",\"gridwidth\":2,\"linecolor\":\"white\",\"showbackground\":true,\"ticks\":\"\",\"zerolinecolor\":\"white\"},\"yaxis\":{\"backgroundcolor\":\"#E5ECF6\",\"gridcolor\":\"white\",\"gridwidth\":2,\"linecolor\":\"white\",\"showbackground\":true,\"ticks\":\"\",\"zerolinecolor\":\"white\"},\"zaxis\":{\"backgroundcolor\":\"#E5ECF6\",\"gridcolor\":\"white\",\"gridwidth\":2,\"linecolor\":\"white\",\"showbackground\":true,\"ticks\":\"\",\"zerolinecolor\":\"white\"}},\"shapedefaults\":{\"line\":{\"color\":\"#2a3f5f\"}},\"ternary\":{\"aaxis\":{\"gridcolor\":\"white\",\"linecolor\":\"white\",\"ticks\":\"\"},\"baxis\":{\"gridcolor\":\"white\",\"linecolor\":\"white\",\"ticks\":\"\"},\"bgcolor\":\"#E5ECF6\",\"caxis\":{\"gridcolor\":\"white\",\"linecolor\":\"white\",\"ticks\":\"\"}},\"title\":{\"x\":0.05},\"xaxis\":{\"automargin\":true,\"gridcolor\":\"white\",\"linecolor\":\"white\",\"ticks\":\"\",\"title\":{\"standoff\":15},\"zerolinecolor\":\"white\",\"zerolinewidth\":2},\"yaxis\":{\"automargin\":true,\"gridcolor\":\"white\",\"linecolor\":\"white\",\"ticks\":\"\",\"title\":{\"standoff\":15},\"zerolinecolor\":\"white\",\"zerolinewidth\":2}}},\"xaxis\":{\"anchor\":\"y\",\"domain\":[0.0,1.0],\"title\":{\"text\":\"std%\"}},\"yaxis\":{\"anchor\":\"x\",\"domain\":[0.0,1.0],\"title\":{\"text\":\"mean%\"}},\"legend\":{\"title\":{\"text\":\"name\"},\"tracegroupgap\":0,\"itemsizing\":\"constant\"},\"title\":{\"text\":\"Risk Return Landscape\"}},                        {\"responsive\": true}                    ).then(function(){\n",
              "                            \n",
              "var gd = document.getElementById('e93b90c4-778c-4082-a5be-3d6bbc2c3494');\n",
              "var x = new MutationObserver(function (mutations, observer) {{\n",
              "        var display = window.getComputedStyle(gd).display;\n",
              "        if (!display || display === 'none') {{\n",
              "            console.log([gd, 'removed!']);\n",
              "            Plotly.purge(gd);\n",
              "            observer.disconnect();\n",
              "        }}\n",
              "}});\n",
              "\n",
              "// Listen for the removal of the full notebook cells\n",
              "var notebookContainer = gd.closest('#notebook-container');\n",
              "if (notebookContainer) {{\n",
              "    x.observe(notebookContainer, {childList: true});\n",
              "}}\n",
              "\n",
              "// Listen for the clearing of the current output cell\n",
              "var outputEl = gd.closest('.output');\n",
              "if (outputEl) {{\n",
              "    x.observe(outputEl, {childList: true});\n",
              "}}\n",
              "\n",
              "                        })                };                            </script>        </div>\n",
              "</body>\n",
              "</html>"
            ]
          },
          "metadata": {}
        }
      ]
    }
  ]
}